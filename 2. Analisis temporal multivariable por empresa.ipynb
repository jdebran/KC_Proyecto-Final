{
 "cells": [
  {
   "cell_type": "code",
   "execution_count": 1,
   "metadata": {},
   "outputs": [],
   "source": [
    "import pandas as pd\n",
    "import numpy as np\n",
    "import matplotlib.pyplot as plt\n",
    "from pandas.plotting import lag_plot\n",
    "from math import sqrt\n",
    "from sklearn.metrics import mean_squared_error"
   ]
  },
  {
   "cell_type": "code",
   "execution_count": 7,
   "metadata": {},
   "outputs": [
    {
     "data": {
      "text/html": [
       "<div>\n",
       "<style scoped>\n",
       "    .dataframe tbody tr th:only-of-type {\n",
       "        vertical-align: middle;\n",
       "    }\n",
       "\n",
       "    .dataframe tbody tr th {\n",
       "        vertical-align: top;\n",
       "    }\n",
       "\n",
       "    .dataframe thead th {\n",
       "        text-align: right;\n",
       "    }\n",
       "</style>\n",
       "<table border=\"1\" class=\"dataframe\">\n",
       "  <thead>\n",
       "    <tr style=\"text-align: right;\">\n",
       "      <th></th>\n",
       "      <th>CODE</th>\n",
       "      <th>VQ_MARKET_CAP</th>\n",
       "      <th>CSR__ROE</th>\n",
       "      <th>VR__EV_TO_EBIT</th>\n",
       "      <th>CSR__ROC_JOEL_GREENBLATT</th>\n",
       "      <th>CSR__OPERATING_MARGIN</th>\n",
       "      <th>VQ__PIOTROSKI_F_SCORE</th>\n",
       "      <th>VR__PS_RATIO</th>\n",
       "      <th>VR__PB_RATIO</th>\n",
       "      <th>VQ__ALTMAN_Z_SCORE</th>\n",
       "      <th>...</th>\n",
       "      <th>CSR__NET_MARGIN_RANKING</th>\n",
       "      <th>IS__REVENUE_RANKING</th>\n",
       "      <th>IS__NET_INCOME_RANKING</th>\n",
       "      <th>IS__COST_OF_GOODS_SOLD_RANKING</th>\n",
       "      <th>BS__TOTAL_EQUITY_RANKING</th>\n",
       "      <th>IS__EBITDA_RANKING</th>\n",
       "      <th>BS__TOTAL_ASSETS_RANKING</th>\n",
       "      <th>BS__LONG_TERM_DEBT_RANKING</th>\n",
       "      <th>BS__TOTAL_CURRENT_LIABILITIES_RANKING</th>\n",
       "      <th>TARGET_RANKING</th>\n",
       "    </tr>\n",
       "    <tr>\n",
       "      <th>YEAR</th>\n",
       "      <th></th>\n",
       "      <th></th>\n",
       "      <th></th>\n",
       "      <th></th>\n",
       "      <th></th>\n",
       "      <th></th>\n",
       "      <th></th>\n",
       "      <th></th>\n",
       "      <th></th>\n",
       "      <th></th>\n",
       "      <th></th>\n",
       "      <th></th>\n",
       "      <th></th>\n",
       "      <th></th>\n",
       "      <th></th>\n",
       "      <th></th>\n",
       "      <th></th>\n",
       "      <th></th>\n",
       "      <th></th>\n",
       "      <th></th>\n",
       "      <th></th>\n",
       "    </tr>\n",
       "  </thead>\n",
       "  <tbody>\n",
       "    <tr>\n",
       "      <th>2012-01-01</th>\n",
       "      <td>ETE</td>\n",
       "      <td>12732.3534</td>\n",
       "      <td>27.89</td>\n",
       "      <td>19.82</td>\n",
       "      <td>11.46</td>\n",
       "      <td>8.02</td>\n",
       "      <td>5</td>\n",
       "      <td>0.73</td>\n",
       "      <td>6.03</td>\n",
       "      <td>0.74</td>\n",
       "      <td>...</td>\n",
       "      <td>2787</td>\n",
       "      <td>371</td>\n",
       "      <td>933</td>\n",
       "      <td>255</td>\n",
       "      <td>260</td>\n",
       "      <td>276</td>\n",
       "      <td>302</td>\n",
       "      <td>64</td>\n",
       "      <td>320</td>\n",
       "      <td>714</td>\n",
       "    </tr>\n",
       "    <tr>\n",
       "      <th>2007-01-01</th>\n",
       "      <td>ETE</td>\n",
       "      <td>8191.2308</td>\n",
       "      <td>2122.84</td>\n",
       "      <td>25.13</td>\n",
       "      <td>14.74</td>\n",
       "      <td>11.92</td>\n",
       "      <td>5</td>\n",
       "      <td>1.16</td>\n",
       "      <td>0.00</td>\n",
       "      <td>1.52</td>\n",
       "      <td>...</td>\n",
       "      <td>1419</td>\n",
       "      <td>315</td>\n",
       "      <td>417</td>\n",
       "      <td>219</td>\n",
       "      <td>444</td>\n",
       "      <td>319</td>\n",
       "      <td>354</td>\n",
       "      <td>109</td>\n",
       "      <td>374</td>\n",
       "      <td>1385</td>\n",
       "    </tr>\n",
       "    <tr>\n",
       "      <th>2015-01-01</th>\n",
       "      <td>ETE</td>\n",
       "      <td>14384.6808</td>\n",
       "      <td>0.00</td>\n",
       "      <td>28.67</td>\n",
       "      <td>5.90</td>\n",
       "      <td>7.28</td>\n",
       "      <td>7</td>\n",
       "      <td>0.41</td>\n",
       "      <td>0.00</td>\n",
       "      <td>0.81</td>\n",
       "      <td>...</td>\n",
       "      <td>3365</td>\n",
       "      <td>176</td>\n",
       "      <td>407</td>\n",
       "      <td>108</td>\n",
       "      <td>194</td>\n",
       "      <td>209</td>\n",
       "      <td>276</td>\n",
       "      <td>36</td>\n",
       "      <td>449</td>\n",
       "      <td>1756</td>\n",
       "    </tr>\n",
       "    <tr>\n",
       "      <th>2014-01-01</th>\n",
       "      <td>ETE</td>\n",
       "      <td>31002.7009</td>\n",
       "      <td>72.22</td>\n",
       "      <td>28.98</td>\n",
       "      <td>8.00</td>\n",
       "      <td>5.10</td>\n",
       "      <td>7</td>\n",
       "      <td>0.56</td>\n",
       "      <td>46.73</td>\n",
       "      <td>1.44</td>\n",
       "      <td>...</td>\n",
       "      <td>3936</td>\n",
       "      <td>123</td>\n",
       "      <td>725</td>\n",
       "      <td>69</td>\n",
       "      <td>211</td>\n",
       "      <td>230</td>\n",
       "      <td>306</td>\n",
       "      <td>53</td>\n",
       "      <td>347</td>\n",
       "      <td>5349</td>\n",
       "    </tr>\n",
       "    <tr>\n",
       "      <th>2010-01-01</th>\n",
       "      <td>ETE</td>\n",
       "      <td>8712.4952</td>\n",
       "      <td>317.83</td>\n",
       "      <td>24.53</td>\n",
       "      <td>9.21</td>\n",
       "      <td>15.92</td>\n",
       "      <td>5</td>\n",
       "      <td>1.33</td>\n",
       "      <td>72.37</td>\n",
       "      <td>1.05</td>\n",
       "      <td>...</td>\n",
       "      <td>2391</td>\n",
       "      <td>631</td>\n",
       "      <td>1021</td>\n",
       "      <td>471</td>\n",
       "      <td>508</td>\n",
       "      <td>499</td>\n",
       "      <td>529</td>\n",
       "      <td>146</td>\n",
       "      <td>821</td>\n",
       "      <td>1060</td>\n",
       "    </tr>\n",
       "  </tbody>\n",
       "</table>\n",
       "<p>5 rows × 52 columns</p>\n",
       "</div>"
      ],
      "text/plain": [
       "           CODE  VQ_MARKET_CAP  CSR__ROE  VR__EV_TO_EBIT  \\\n",
       "YEAR                                                       \n",
       "2012-01-01  ETE     12732.3534     27.89           19.82   \n",
       "2007-01-01  ETE      8191.2308   2122.84           25.13   \n",
       "2015-01-01  ETE     14384.6808      0.00           28.67   \n",
       "2014-01-01  ETE     31002.7009     72.22           28.98   \n",
       "2010-01-01  ETE      8712.4952    317.83           24.53   \n",
       "\n",
       "            CSR__ROC_JOEL_GREENBLATT  CSR__OPERATING_MARGIN  \\\n",
       "YEAR                                                          \n",
       "2012-01-01                     11.46                   8.02   \n",
       "2007-01-01                     14.74                  11.92   \n",
       "2015-01-01                      5.90                   7.28   \n",
       "2014-01-01                      8.00                   5.10   \n",
       "2010-01-01                      9.21                  15.92   \n",
       "\n",
       "            VQ__PIOTROSKI_F_SCORE  VR__PS_RATIO  VR__PB_RATIO  \\\n",
       "YEAR                                                            \n",
       "2012-01-01                      5          0.73          6.03   \n",
       "2007-01-01                      5          1.16          0.00   \n",
       "2015-01-01                      7          0.41          0.00   \n",
       "2014-01-01                      7          0.56         46.73   \n",
       "2010-01-01                      5          1.33         72.37   \n",
       "\n",
       "            VQ__ALTMAN_Z_SCORE       ...        CSR__NET_MARGIN_RANKING  \\\n",
       "YEAR                                 ...                                  \n",
       "2012-01-01                0.74       ...                           2787   \n",
       "2007-01-01                1.52       ...                           1419   \n",
       "2015-01-01                0.81       ...                           3365   \n",
       "2014-01-01                1.44       ...                           3936   \n",
       "2010-01-01                1.05       ...                           2391   \n",
       "\n",
       "            IS__REVENUE_RANKING  IS__NET_INCOME_RANKING  \\\n",
       "YEAR                                                      \n",
       "2012-01-01                  371                     933   \n",
       "2007-01-01                  315                     417   \n",
       "2015-01-01                  176                     407   \n",
       "2014-01-01                  123                     725   \n",
       "2010-01-01                  631                    1021   \n",
       "\n",
       "            IS__COST_OF_GOODS_SOLD_RANKING  BS__TOTAL_EQUITY_RANKING  \\\n",
       "YEAR                                                                   \n",
       "2012-01-01                             255                       260   \n",
       "2007-01-01                             219                       444   \n",
       "2015-01-01                             108                       194   \n",
       "2014-01-01                              69                       211   \n",
       "2010-01-01                             471                       508   \n",
       "\n",
       "            IS__EBITDA_RANKING  BS__TOTAL_ASSETS_RANKING  \\\n",
       "YEAR                                                       \n",
       "2012-01-01                 276                       302   \n",
       "2007-01-01                 319                       354   \n",
       "2015-01-01                 209                       276   \n",
       "2014-01-01                 230                       306   \n",
       "2010-01-01                 499                       529   \n",
       "\n",
       "            BS__LONG_TERM_DEBT_RANKING  BS__TOTAL_CURRENT_LIABILITIES_RANKING  \\\n",
       "YEAR                                                                            \n",
       "2012-01-01                          64                                    320   \n",
       "2007-01-01                         109                                    374   \n",
       "2015-01-01                          36                                    449   \n",
       "2014-01-01                          53                                    347   \n",
       "2010-01-01                         146                                    821   \n",
       "\n",
       "            TARGET_RANKING  \n",
       "YEAR                        \n",
       "2012-01-01             714  \n",
       "2007-01-01            1385  \n",
       "2015-01-01            1756  \n",
       "2014-01-01            5349  \n",
       "2010-01-01            1060  \n",
       "\n",
       "[5 rows x 52 columns]"
      ]
     },
     "execution_count": 7,
     "metadata": {},
     "output_type": "execute_result"
    }
   ],
   "source": [
    "#Transformación para series temporales donde cogemos el año como índice del dataframe\n",
    "financialDF = pd.read_csv('Datos/ds_target_cat.csv', header=0, index_col=1, parse_dates=True)\n",
    "financialDF.head()"
   ]
  },
  {
   "cell_type": "code",
   "execution_count": 8,
   "metadata": {},
   "outputs": [
    {
     "data": {
      "text/plain": [
       "(87438, 52)"
      ]
     },
     "execution_count": 8,
     "metadata": {},
     "output_type": "execute_result"
    }
   ],
   "source": [
    "financialDF.shape"
   ]
  },
  {
   "cell_type": "markdown",
   "metadata": {},
   "source": [
    "### Limpieza y preprocesado de los datos\n",
    "\n",
    "Voy a quedarme con las columnas que me interesan"
   ]
  },
  {
   "cell_type": "code",
   "execution_count": 9,
   "metadata": {},
   "outputs": [
    {
     "data": {
      "text/plain": [
       "Index(['CODE', 'VQ_MARKET_CAP', 'CSR__ROE', 'VR__EV_TO_EBIT',\n",
       "       'CSR__ROC_JOEL_GREENBLATT', 'CSR__OPERATING_MARGIN',\n",
       "       'VQ__PIOTROSKI_F_SCORE', 'VR__PS_RATIO', 'VR__PB_RATIO',\n",
       "       'VQ__ALTMAN_Z_SCORE', 'CSR__ROA', 'PSDA__EARNINGS_PER_SHARE_DILUTED',\n",
       "       'CSR__ROIC', 'CSR__GROSS_MARGIN', 'VQ__YOY_EPS_GROWTH',\n",
       "       'VQ__YOY_EBITDA_GROWTH', 'PSDA__EBITDA_PER_SHARE',\n",
       "       'PSDA__TOTAL_DEBT_PER_SHARE', 'CSR__NET_MARGIN', 'IS__REVENUE',\n",
       "       'IS__NET_INCOME', 'IS__COST_OF_GOODS_SOLD', 'BS__TOTAL_EQUITY',\n",
       "       'IS__EBITDA', 'BS__TOTAL_ASSETS', 'BS__LONG_TERM_DEBT',\n",
       "       'BS__TOTAL_CURRENT_LIABILITIES', 'PRICE_START', 'PRICE_END', 'RETURNS',\n",
       "       'RISK', 'INDUSTRY01', 'INDUSTRY02', 'TARGET', 'RETURNS_CAT',\n",
       "       'TARGET_CAT', 'VR__EV_TO_EBIT_RANKING',\n",
       "       'CSR__ROC_JOEL_GREENBLATT_RANKING', 'RETURNS_RANKING',\n",
       "       'PSDA__EARNINGS_PER_SHARE_DILUTED_RANKING',\n",
       "       'PSDA__EBITDA_PER_SHARE_RANKING', 'PSDA__TOTAL_DEBT_PER_SHARE_RANKING',\n",
       "       'CSR__NET_MARGIN_RANKING', 'IS__REVENUE_RANKING',\n",
       "       'IS__NET_INCOME_RANKING', 'IS__COST_OF_GOODS_SOLD_RANKING',\n",
       "       'BS__TOTAL_EQUITY_RANKING', 'IS__EBITDA_RANKING',\n",
       "       'BS__TOTAL_ASSETS_RANKING', 'BS__LONG_TERM_DEBT_RANKING',\n",
       "       'BS__TOTAL_CURRENT_LIABILITIES_RANKING', 'TARGET_RANKING'],\n",
       "      dtype='object')"
      ]
     },
     "execution_count": 9,
     "metadata": {},
     "output_type": "execute_result"
    }
   ],
   "source": [
    "financialDF.columns"
   ]
  },
  {
   "cell_type": "code",
   "execution_count": 10,
   "metadata": {},
   "outputs": [],
   "source": [
    "columns_to_drop = ['INDUSTRY01','INDUSTRY02', 'TARGET', 'RETURNS_CAT','TARGET_CAT', 'VR__EV_TO_EBIT_RANKING',\n",
    "                   'CSR__ROC_JOEL_GREENBLATT_RANKING', 'RETURNS_RANKING','PSDA__EARNINGS_PER_SHARE_DILUTED_RANKING',\n",
    "                   'PSDA__EBITDA_PER_SHARE_RANKING', 'PSDA__TOTAL_DEBT_PER_SHARE_RANKING','CSR__NET_MARGIN_RANKING', \n",
    "                   'IS__REVENUE_RANKING', 'IS__NET_INCOME_RANKING', 'IS__COST_OF_GOODS_SOLD_RANKING',\n",
    "                   'BS__TOTAL_EQUITY_RANKING', 'IS__EBITDA_RANKING','BS__TOTAL_ASSETS_RANKING', 'BS__LONG_TERM_DEBT_RANKING',\n",
    "                   'BS__TOTAL_CURRENT_LIABILITIES_RANKING', 'TARGET_RANKING']\n",
    "financialDF = financialDF.drop(columns_to_drop, axis=1) "
   ]
  },
  {
   "cell_type": "code",
   "execution_count": 11,
   "metadata": {},
   "outputs": [
    {
     "data": {
      "text/html": [
       "<div>\n",
       "<style scoped>\n",
       "    .dataframe tbody tr th:only-of-type {\n",
       "        vertical-align: middle;\n",
       "    }\n",
       "\n",
       "    .dataframe tbody tr th {\n",
       "        vertical-align: top;\n",
       "    }\n",
       "\n",
       "    .dataframe thead th {\n",
       "        text-align: right;\n",
       "    }\n",
       "</style>\n",
       "<table border=\"1\" class=\"dataframe\">\n",
       "  <thead>\n",
       "    <tr style=\"text-align: right;\">\n",
       "      <th></th>\n",
       "      <th></th>\n",
       "      <th>CODE</th>\n",
       "      <th>VQ_MARKET_CAP</th>\n",
       "      <th>CSR__ROE</th>\n",
       "      <th>VR__EV_TO_EBIT</th>\n",
       "      <th>CSR__ROC_JOEL_GREENBLATT</th>\n",
       "      <th>CSR__OPERATING_MARGIN</th>\n",
       "      <th>VQ__PIOTROSKI_F_SCORE</th>\n",
       "      <th>VR__PS_RATIO</th>\n",
       "      <th>VR__PB_RATIO</th>\n",
       "      <th>VQ__ALTMAN_Z_SCORE</th>\n",
       "      <th>...</th>\n",
       "      <th>IS__COST_OF_GOODS_SOLD</th>\n",
       "      <th>BS__TOTAL_EQUITY</th>\n",
       "      <th>IS__EBITDA</th>\n",
       "      <th>BS__TOTAL_ASSETS</th>\n",
       "      <th>BS__LONG_TERM_DEBT</th>\n",
       "      <th>BS__TOTAL_CURRENT_LIABILITIES</th>\n",
       "      <th>PRICE_START</th>\n",
       "      <th>PRICE_END</th>\n",
       "      <th>RETURNS</th>\n",
       "      <th>RISK</th>\n",
       "    </tr>\n",
       "    <tr>\n",
       "      <th>CODE</th>\n",
       "      <th>YEAR</th>\n",
       "      <th></th>\n",
       "      <th></th>\n",
       "      <th></th>\n",
       "      <th></th>\n",
       "      <th></th>\n",
       "      <th></th>\n",
       "      <th></th>\n",
       "      <th></th>\n",
       "      <th></th>\n",
       "      <th></th>\n",
       "      <th></th>\n",
       "      <th></th>\n",
       "      <th></th>\n",
       "      <th></th>\n",
       "      <th></th>\n",
       "      <th></th>\n",
       "      <th></th>\n",
       "      <th></th>\n",
       "      <th></th>\n",
       "      <th></th>\n",
       "      <th></th>\n",
       "    </tr>\n",
       "  </thead>\n",
       "  <tbody>\n",
       "    <tr>\n",
       "      <th rowspan=\"5\" valign=\"top\">A</th>\n",
       "      <th>1999-01-01</th>\n",
       "      <td>A</td>\n",
       "      <td>0.0000</td>\n",
       "      <td>15.99</td>\n",
       "      <td>0.00</td>\n",
       "      <td>16.93</td>\n",
       "      <td>6.18</td>\n",
       "      <td>0</td>\n",
       "      <td>0.00</td>\n",
       "      <td>0.00</td>\n",
       "      <td>1.94</td>\n",
       "      <td>...</td>\n",
       "      <td>3627.0</td>\n",
       "      <td>3382.0</td>\n",
       "      <td>862.0</td>\n",
       "      <td>5444.0</td>\n",
       "      <td>0.0</td>\n",
       "      <td>1681.0</td>\n",
       "      <td>27.20</td>\n",
       "      <td>41.44</td>\n",
       "      <td>0.523529</td>\n",
       "      <td>6.648929</td>\n",
       "    </tr>\n",
       "    <tr>\n",
       "      <th>2000-01-01</th>\n",
       "      <td>A</td>\n",
       "      <td>14164.1760</td>\n",
       "      <td>17.51</td>\n",
       "      <td>13.40</td>\n",
       "      <td>28.35</td>\n",
       "      <td>9.87</td>\n",
       "      <td>6</td>\n",
       "      <td>1.46</td>\n",
       "      <td>2.69</td>\n",
       "      <td>4.86</td>\n",
       "      <td>...</td>\n",
       "      <td>4586.0</td>\n",
       "      <td>5265.0</td>\n",
       "      <td>1384.0</td>\n",
       "      <td>8330.0</td>\n",
       "      <td>0.0</td>\n",
       "      <td>2663.0</td>\n",
       "      <td>43.80</td>\n",
       "      <td>36.05</td>\n",
       "      <td>-0.176941</td>\n",
       "      <td>15.924856</td>\n",
       "    </tr>\n",
       "    <tr>\n",
       "      <th>2001-01-01</th>\n",
       "      <td>A</td>\n",
       "      <td>6919.6100</td>\n",
       "      <td>3.08</td>\n",
       "      <td>-7.25</td>\n",
       "      <td>-23.05</td>\n",
       "      <td>-9.27</td>\n",
       "      <td>6</td>\n",
       "      <td>0.80</td>\n",
       "      <td>1.22</td>\n",
       "      <td>3.25</td>\n",
       "      <td>...</td>\n",
       "      <td>4890.0</td>\n",
       "      <td>5659.0</td>\n",
       "      <td>-44.0</td>\n",
       "      <td>7986.0</td>\n",
       "      <td>0.0</td>\n",
       "      <td>2002.0</td>\n",
       "      <td>36.89</td>\n",
       "      <td>18.93</td>\n",
       "      <td>-0.486853</td>\n",
       "      <td>6.948052</td>\n",
       "    </tr>\n",
       "    <tr>\n",
       "      <th>2002-01-01</th>\n",
       "      <td>A</td>\n",
       "      <td>4324.6052</td>\n",
       "      <td>-20.07</td>\n",
       "      <td>-2.26</td>\n",
       "      <td>-54.40</td>\n",
       "      <td>-26.74</td>\n",
       "      <td>1</td>\n",
       "      <td>0.72</td>\n",
       "      <td>0.93</td>\n",
       "      <td>1.21</td>\n",
       "      <td>...</td>\n",
       "      <td>3694.0</td>\n",
       "      <td>4627.0</td>\n",
       "      <td>-872.0</td>\n",
       "      <td>8203.0</td>\n",
       "      <td>1150.0</td>\n",
       "      <td>2181.0</td>\n",
       "      <td>19.21</td>\n",
       "      <td>12.26</td>\n",
       "      <td>-0.361791</td>\n",
       "      <td>5.163617</td>\n",
       "    </tr>\n",
       "    <tr>\n",
       "      <th>2003-01-01</th>\n",
       "      <td>A</td>\n",
       "      <td>7994.5585</td>\n",
       "      <td>-55.24</td>\n",
       "      <td>-10.47</td>\n",
       "      <td>-33.83</td>\n",
       "      <td>-16.11</td>\n",
       "      <td>2</td>\n",
       "      <td>1.78</td>\n",
       "      <td>2.83</td>\n",
       "      <td>1.62</td>\n",
       "      <td>...</td>\n",
       "      <td>2633.0</td>\n",
       "      <td>2824.0</td>\n",
       "      <td>-358.0</td>\n",
       "      <td>6297.0</td>\n",
       "      <td>1150.0</td>\n",
       "      <td>1906.0</td>\n",
       "      <td>12.10</td>\n",
       "      <td>19.12</td>\n",
       "      <td>0.580165</td>\n",
       "      <td>3.297241</td>\n",
       "    </tr>\n",
       "  </tbody>\n",
       "</table>\n",
       "<p>5 rows × 31 columns</p>\n",
       "</div>"
      ],
      "text/plain": [
       "                CODE  VQ_MARKET_CAP  CSR__ROE  VR__EV_TO_EBIT  \\\n",
       "CODE YEAR                                                       \n",
       "A    1999-01-01    A         0.0000     15.99            0.00   \n",
       "     2000-01-01    A     14164.1760     17.51           13.40   \n",
       "     2001-01-01    A      6919.6100      3.08           -7.25   \n",
       "     2002-01-01    A      4324.6052    -20.07           -2.26   \n",
       "     2003-01-01    A      7994.5585    -55.24          -10.47   \n",
       "\n",
       "                 CSR__ROC_JOEL_GREENBLATT  CSR__OPERATING_MARGIN  \\\n",
       "CODE YEAR                                                          \n",
       "A    1999-01-01                     16.93                   6.18   \n",
       "     2000-01-01                     28.35                   9.87   \n",
       "     2001-01-01                    -23.05                  -9.27   \n",
       "     2002-01-01                    -54.40                 -26.74   \n",
       "     2003-01-01                    -33.83                 -16.11   \n",
       "\n",
       "                 VQ__PIOTROSKI_F_SCORE  VR__PS_RATIO  VR__PB_RATIO  \\\n",
       "CODE YEAR                                                            \n",
       "A    1999-01-01                      0          0.00          0.00   \n",
       "     2000-01-01                      6          1.46          2.69   \n",
       "     2001-01-01                      6          0.80          1.22   \n",
       "     2002-01-01                      1          0.72          0.93   \n",
       "     2003-01-01                      2          1.78          2.83   \n",
       "\n",
       "                 VQ__ALTMAN_Z_SCORE    ...      IS__COST_OF_GOODS_SOLD  \\\n",
       "CODE YEAR                              ...                               \n",
       "A    1999-01-01                1.94    ...                      3627.0   \n",
       "     2000-01-01                4.86    ...                      4586.0   \n",
       "     2001-01-01                3.25    ...                      4890.0   \n",
       "     2002-01-01                1.21    ...                      3694.0   \n",
       "     2003-01-01                1.62    ...                      2633.0   \n",
       "\n",
       "                 BS__TOTAL_EQUITY  IS__EBITDA  BS__TOTAL_ASSETS  \\\n",
       "CODE YEAR                                                         \n",
       "A    1999-01-01            3382.0       862.0            5444.0   \n",
       "     2000-01-01            5265.0      1384.0            8330.0   \n",
       "     2001-01-01            5659.0       -44.0            7986.0   \n",
       "     2002-01-01            4627.0      -872.0            8203.0   \n",
       "     2003-01-01            2824.0      -358.0            6297.0   \n",
       "\n",
       "                 BS__LONG_TERM_DEBT  BS__TOTAL_CURRENT_LIABILITIES  \\\n",
       "CODE YEAR                                                            \n",
       "A    1999-01-01                 0.0                         1681.0   \n",
       "     2000-01-01                 0.0                         2663.0   \n",
       "     2001-01-01                 0.0                         2002.0   \n",
       "     2002-01-01              1150.0                         2181.0   \n",
       "     2003-01-01              1150.0                         1906.0   \n",
       "\n",
       "                 PRICE_START  PRICE_END   RETURNS       RISK  \n",
       "CODE YEAR                                                     \n",
       "A    1999-01-01        27.20      41.44  0.523529   6.648929  \n",
       "     2000-01-01        43.80      36.05 -0.176941  15.924856  \n",
       "     2001-01-01        36.89      18.93 -0.486853   6.948052  \n",
       "     2002-01-01        19.21      12.26 -0.361791   5.163617  \n",
       "     2003-01-01        12.10      19.12  0.580165   3.297241  \n",
       "\n",
       "[5 rows x 31 columns]"
      ]
     },
     "execution_count": 11,
     "metadata": {},
     "output_type": "execute_result"
    }
   ],
   "source": [
    "financialDFByCode = financialDF.groupby(['CODE'])\n",
    "financialDFByCode = financialDFByCode.apply(lambda x: x.sort_index())\n",
    "lista_codigos = financialDFByCode['CODE'].unique()\n",
    "NUM_EMPRESAS = len(lista_codigos)\n",
    "financialDFByCode.head()"
   ]
  },
  {
   "cell_type": "markdown",
   "metadata": {},
   "source": [
    "Calculo el porcentaje de filas que tienen valores NaN en el dataset"
   ]
  },
  {
   "cell_type": "code",
   "execution_count": 8,
   "metadata": {},
   "outputs": [
    {
     "data": {
      "text/plain": [
       "CODE                                 0.00\n",
       "VQ_MARKET_CAP                        0.15\n",
       "CSR__ROE                             1.34\n",
       "VR__EV_TO_EBIT                       7.39\n",
       "CSR__ROC_JOEL_GREENBLATT            13.35\n",
       "CSR__OPERATING_MARGIN                4.11\n",
       "VQ__PIOTROSKI_F_SCORE                0.00\n",
       "VR__PS_RATIO                         4.53\n",
       "VR__PB_RATIO                         1.58\n",
       "VQ__ALTMAN_Z_SCORE                   0.00\n",
       "CSR__ROA                             0.01\n",
       "PSDA__EARNINGS_PER_SHARE_DILUTED     0.00\n",
       "CSR__ROIC                            1.99\n",
       "CSR__GROSS_MARGIN                   16.71\n",
       "VQ__YOY_EPS_GROWTH                   0.28\n",
       "VQ__YOY_EBITDA_GROWTH                9.48\n",
       "PSDA__EBITDA_PER_SHARE               0.15\n",
       "PSDA__TOTAL_DEBT_PER_SHARE           0.15\n",
       "CSR__NET_MARGIN                      4.11\n",
       "IS__REVENUE                          0.00\n",
       "IS__NET_INCOME                       0.00\n",
       "IS__COST_OF_GOODS_SOLD              12.60\n",
       "BS__TOTAL_EQUITY                     0.00\n",
       "IS__EBITDA                           9.25\n",
       "BS__TOTAL_ASSETS                     0.00\n",
       "BS__LONG_TERM_DEBT                  12.60\n",
       "BS__TOTAL_CURRENT_LIABILITIES       12.60\n",
       "PRICE_START                          0.00\n",
       "PRICE_END                            0.00\n",
       "RETURNS                              1.32\n",
       "RISK                                 0.26\n",
       "dtype: float64"
      ]
     },
     "execution_count": 8,
     "metadata": {},
     "output_type": "execute_result"
    }
   ],
   "source": [
    "round(((financialDFByCode.isna().sum()/financialDFByCode.shape[0])*100),2)"
   ]
  },
  {
   "cell_type": "markdown",
   "metadata": {},
   "source": [
    "Voy a mirar qué empresas las que vienen con valores a NaN para descartarlas y quedarme solo con aquellas que tienen \n",
    "todos los valores"
   ]
  },
  {
   "cell_type": "code",
   "execution_count": 20,
   "metadata": {},
   "outputs": [
    {
     "name": "stdout",
     "output_type": "stream",
     "text": [
      "Número de compañías en el estudio:  6282\n",
      "CPU times: user 14.3 s, sys: 16 ms, total: 14.3 s\n",
      "Wall time: 14.4 s\n"
     ]
    }
   ],
   "source": [
    "%%time\n",
    "lista_companyas = []\n",
    "for c in lista_codigos:\n",
    "    dataCompanya = financialDFByCode.loc[c]\n",
    "    arrayNaNCompanya = ((dataCompanya.isna().sum()/dataCompanya.shape[0])*100).values    \n",
    "    numNaN = arrayNaNCompanya.sum()\n",
    "    if numNaN == 0:\n",
    "        lista_companyas.append(c)\n",
    "NUM_EMPRESAS = len(lista_companyas)\n",
    "print('Número de compañías en el estudio: ', NUM_EMPRESAS)"
   ]
  },
  {
   "cell_type": "markdown",
   "metadata": {},
   "source": [
    "En una primera aproximación, me voy a quedar solo con aquellas empresas que no tienen valores NaN en ninguna de sus filas, asumiendo que la calidad del dato para estos casos es mayor. Queda pendiente una revisión de los datos de las compañías descartadas para intentar aumentar el universo de datos."
   ]
  },
  {
   "cell_type": "markdown",
   "metadata": {},
   "source": [
    "De las empresas restantes, nos quedamos con las que tienen datos de los últimos 10 años (al menos) y no tienen saltos en las series temporales."
   ]
  },
  {
   "cell_type": "code",
   "execution_count": 21,
   "metadata": {},
   "outputs": [
    {
     "name": "stdout",
     "output_type": "stream",
     "text": [
      "Número de compañías en el estudio:  1319\n",
      "CPU times: user 1min 3s, sys: 0 ns, total: 1min 3s\n",
      "Wall time: 1min 3s\n"
     ]
    }
   ],
   "source": [
    "%%time\n",
    "lista_companyas_def = []\n",
    "financialDF = pd.DataFrame()\n",
    "for c in lista_companyas:        \n",
    "    df = (financialDFByCode[financialDFByCode['CODE']==c])\n",
    "    if len(df.index.values) > 11:\n",
    "        anyo_min = df.index.values[0]\n",
    "        anyo_max = df.index.values[-1]\n",
    "        num_valores = ((anyo_max[1] - anyo_min[1])/365).days\n",
    "        if (num_valores + 1) == len(df.index.values): #Tengo series temporales sin saltos\n",
    "            #me quedo con la ultima fila\n",
    "            df = (financialDFByCode[financialDFByCode['CODE']==c]).iloc[-1:]\n",
    "            t = df.index.values[0][1]\n",
    "            if t.year == 2017:            \n",
    "                lista_companyas_def.append(c)\n",
    "NUM_EMPRESAS = len(lista_companyas_def)\n",
    "print('Número de compañías en el estudio: ', NUM_EMPRESAS)   "
   ]
  },
  {
   "cell_type": "code",
   "execution_count": 22,
   "metadata": {},
   "outputs": [
    {
     "data": {
      "text/plain": [
       "(28779, 31)"
      ]
     },
     "execution_count": 22,
     "metadata": {},
     "output_type": "execute_result"
    }
   ],
   "source": [
    "#Me quedo con las filas correspondientes a las 1319 compañías\n",
    "financialDFByCode = financialDFByCode[financialDFByCode['CODE'].isin(lista_companyas_def)]\n",
    "lista_codigos = financialDFByCode['CODE'].unique()\n",
    "financialDFByCode.shape"
   ]
  },
  {
   "cell_type": "markdown",
   "metadata": {},
   "source": [
    "A parte de los valores missing, vamos a observar aquellas filas que tengan cero en alguna columna y a proceder a su tratamiento"
   ]
  },
  {
   "cell_type": "code",
   "execution_count": 23,
   "metadata": {},
   "outputs": [
    {
     "name": "stdout",
     "output_type": "stream",
     "text": [
      "VQ_MARKET_CAP con 1.13 % de ceros\n",
      "CSR__ROE con 7.29 % de ceros\n",
      "VR__EV_TO_EBIT con 1.14 % de ceros\n",
      "CSR__ROC_JOEL_GREENBLATT con 3.61 % de ceros\n",
      "CSR__OPERATING_MARGIN con 4.32 % de ceros\n",
      "VQ__PIOTROSKI_F_SCORE con 7.63 % de ceros\n",
      "VR__PS_RATIO con 4.58 % de ceros\n",
      "VR__PB_RATIO con 8.75 % de ceros\n",
      "VQ__ALTMAN_Z_SCORE con 3.4 % de ceros\n",
      "CSR__ROA con 1.14 % de ceros\n",
      "PSDA__EARNINGS_PER_SHARE_DILUTED con 0.99 % de ceros\n",
      "CSR__ROIC con 8.4 % de ceros\n",
      "CSR__GROSS_MARGIN con 12.88 % de ceros\n",
      "VQ__YOY_EPS_GROWTH con 4.04 % de ceros\n",
      "VQ__YOY_EBITDA_GROWTH con 2.55 % de ceros\n",
      "PSDA__EBITDA_PER_SHARE con 0.75 % de ceros\n",
      "PSDA__TOTAL_DEBT_PER_SHARE con 18.73 % de ceros\n",
      "CSR__NET_MARGIN con 4.05 % de ceros\n",
      "IS__REVENUE con 3.92 % de ceros\n",
      "IS__NET_INCOME con 0.14 % de ceros\n",
      "IS__COST_OF_GOODS_SOLD con 12.48 % de ceros\n",
      "BS__TOTAL_EQUITY con 0.92 % de ceros\n",
      "IS__EBITDA con 0.36 % de ceros\n",
      "BS__TOTAL_ASSETS con 1.12 % de ceros\n",
      "BS__LONG_TERM_DEBT con 27.38 % de ceros\n",
      "BS__TOTAL_CURRENT_LIABILITIES con 2.85 % de ceros\n",
      "PRICE_START con 0.0 % de ceros\n",
      "PRICE_END con 0.01 % de ceros\n",
      "RETURNS con 1.38 % de ceros\n",
      "RISK con 0.68 % de ceros\n"
     ]
    }
   ],
   "source": [
    "columns = financialDFByCode.columns\n",
    "columns = columns.drop(['CODE'])\n",
    "#Estudio de las columnas con ceros\n",
    "for col in columns:\n",
    "    filas = financialDFByCode.shape[0]\n",
    "    filas_nozero = len((financialDFByCode.loc[:,col]).nonzero()[0])\n",
    "    zeros = filas - filas_nozero\n",
    "    print(col, 'con', str(round((zeros/filas)*100,2)), '% de ceros')\n"
   ]
  },
  {
   "cell_type": "markdown",
   "metadata": {},
   "source": [
    "Para el caso concreto de los valores a cero en PRICE_END, observamos que son dos compañías que tienen esos datos a cero, yendo a Yahoo Financials podemos deducir que se trata de un redondeo en los decimales y que en estos casos RETURNS tiene un valor muy próximo a -1, que es el valor que marca la columna. Por lo tanto no hacemos nada al respecto. Lo que sí que haremos es quitar las columnas PRICE_START y PRICE_END del dataset, ya que la información relacionada con estas dos columnas queda recogida por la columna RETURNS."
   ]
  },
  {
   "cell_type": "code",
   "execution_count": 24,
   "metadata": {},
   "outputs": [
    {
     "data": {
      "text/html": [
       "<div>\n",
       "<style scoped>\n",
       "    .dataframe tbody tr th:only-of-type {\n",
       "        vertical-align: middle;\n",
       "    }\n",
       "\n",
       "    .dataframe tbody tr th {\n",
       "        vertical-align: top;\n",
       "    }\n",
       "\n",
       "    .dataframe thead th {\n",
       "        text-align: right;\n",
       "    }\n",
       "</style>\n",
       "<table border=\"1\" class=\"dataframe\">\n",
       "  <thead>\n",
       "    <tr style=\"text-align: right;\">\n",
       "      <th></th>\n",
       "      <th></th>\n",
       "      <th>CODE</th>\n",
       "      <th>PRICE_START</th>\n",
       "      <th>PRICE_END</th>\n",
       "      <th>RETURNS</th>\n",
       "    </tr>\n",
       "    <tr>\n",
       "      <th>CODE</th>\n",
       "      <th>YEAR</th>\n",
       "      <th></th>\n",
       "      <th></th>\n",
       "      <th></th>\n",
       "      <th></th>\n",
       "    </tr>\n",
       "  </thead>\n",
       "  <tbody>\n",
       "    <tr>\n",
       "      <th>MACQF</th>\n",
       "      <th>2015-01-01</th>\n",
       "      <td>MACQF</td>\n",
       "      <td>0.03</td>\n",
       "      <td>0.0</td>\n",
       "      <td>-1.0</td>\n",
       "    </tr>\n",
       "    <tr>\n",
       "      <th>SPYR</th>\n",
       "      <th>2008-01-01</th>\n",
       "      <td>SPYR</td>\n",
       "      <td>0.01</td>\n",
       "      <td>0.0</td>\n",
       "      <td>-1.0</td>\n",
       "    </tr>\n",
       "  </tbody>\n",
       "</table>\n",
       "</div>"
      ],
      "text/plain": [
       "                   CODE  PRICE_START  PRICE_END  RETURNS\n",
       "CODE  YEAR                                              \n",
       "MACQF 2015-01-01  MACQF         0.03        0.0     -1.0\n",
       "SPYR  2008-01-01   SPYR         0.01        0.0     -1.0"
      ]
     },
     "execution_count": 24,
     "metadata": {},
     "output_type": "execute_result"
    }
   ],
   "source": [
    "financialDFByCode[(financialDFByCode.PRICE_END == 0)].loc[:,['CODE','PRICE_START', 'PRICE_END', 'RETURNS']]"
   ]
  },
  {
   "cell_type": "code",
   "execution_count": 25,
   "metadata": {},
   "outputs": [
    {
     "data": {
      "text/html": [
       "<div>\n",
       "<style scoped>\n",
       "    .dataframe tbody tr th:only-of-type {\n",
       "        vertical-align: middle;\n",
       "    }\n",
       "\n",
       "    .dataframe tbody tr th {\n",
       "        vertical-align: top;\n",
       "    }\n",
       "\n",
       "    .dataframe thead th {\n",
       "        text-align: right;\n",
       "    }\n",
       "</style>\n",
       "<table border=\"1\" class=\"dataframe\">\n",
       "  <thead>\n",
       "    <tr style=\"text-align: right;\">\n",
       "      <th></th>\n",
       "      <th></th>\n",
       "      <th>CODE</th>\n",
       "      <th>VQ_MARKET_CAP</th>\n",
       "      <th>CSR__ROE</th>\n",
       "      <th>VR__EV_TO_EBIT</th>\n",
       "      <th>CSR__ROC_JOEL_GREENBLATT</th>\n",
       "      <th>CSR__OPERATING_MARGIN</th>\n",
       "      <th>VQ__PIOTROSKI_F_SCORE</th>\n",
       "      <th>VR__PS_RATIO</th>\n",
       "      <th>VR__PB_RATIO</th>\n",
       "      <th>VQ__ALTMAN_Z_SCORE</th>\n",
       "      <th>...</th>\n",
       "      <th>IS__REVENUE</th>\n",
       "      <th>IS__NET_INCOME</th>\n",
       "      <th>IS__COST_OF_GOODS_SOLD</th>\n",
       "      <th>BS__TOTAL_EQUITY</th>\n",
       "      <th>IS__EBITDA</th>\n",
       "      <th>BS__TOTAL_ASSETS</th>\n",
       "      <th>BS__LONG_TERM_DEBT</th>\n",
       "      <th>BS__TOTAL_CURRENT_LIABILITIES</th>\n",
       "      <th>RETURNS</th>\n",
       "      <th>RISK</th>\n",
       "    </tr>\n",
       "    <tr>\n",
       "      <th>CODE</th>\n",
       "      <th>YEAR</th>\n",
       "      <th></th>\n",
       "      <th></th>\n",
       "      <th></th>\n",
       "      <th></th>\n",
       "      <th></th>\n",
       "      <th></th>\n",
       "      <th></th>\n",
       "      <th></th>\n",
       "      <th></th>\n",
       "      <th></th>\n",
       "      <th></th>\n",
       "      <th></th>\n",
       "      <th></th>\n",
       "      <th></th>\n",
       "      <th></th>\n",
       "      <th></th>\n",
       "      <th></th>\n",
       "      <th></th>\n",
       "      <th></th>\n",
       "      <th></th>\n",
       "      <th></th>\n",
       "    </tr>\n",
       "  </thead>\n",
       "  <tbody>\n",
       "    <tr>\n",
       "      <th rowspan=\"5\" valign=\"top\">A</th>\n",
       "      <th>1999-01-01</th>\n",
       "      <td>A</td>\n",
       "      <td>0.0000</td>\n",
       "      <td>15.99</td>\n",
       "      <td>0.00</td>\n",
       "      <td>16.93</td>\n",
       "      <td>6.18</td>\n",
       "      <td>0</td>\n",
       "      <td>0.00</td>\n",
       "      <td>0.00</td>\n",
       "      <td>1.94</td>\n",
       "      <td>...</td>\n",
       "      <td>6830.0</td>\n",
       "      <td>512.0</td>\n",
       "      <td>3627.0</td>\n",
       "      <td>3382.0</td>\n",
       "      <td>862.0</td>\n",
       "      <td>5444.0</td>\n",
       "      <td>0.0</td>\n",
       "      <td>1681.0</td>\n",
       "      <td>0.523529</td>\n",
       "      <td>6.648929</td>\n",
       "    </tr>\n",
       "    <tr>\n",
       "      <th>2000-01-01</th>\n",
       "      <td>A</td>\n",
       "      <td>14164.1760</td>\n",
       "      <td>17.51</td>\n",
       "      <td>13.40</td>\n",
       "      <td>28.35</td>\n",
       "      <td>9.87</td>\n",
       "      <td>6</td>\n",
       "      <td>1.46</td>\n",
       "      <td>2.69</td>\n",
       "      <td>4.86</td>\n",
       "      <td>...</td>\n",
       "      <td>9361.0</td>\n",
       "      <td>757.0</td>\n",
       "      <td>4586.0</td>\n",
       "      <td>5265.0</td>\n",
       "      <td>1384.0</td>\n",
       "      <td>8330.0</td>\n",
       "      <td>0.0</td>\n",
       "      <td>2663.0</td>\n",
       "      <td>-0.176941</td>\n",
       "      <td>15.924856</td>\n",
       "    </tr>\n",
       "    <tr>\n",
       "      <th>2001-01-01</th>\n",
       "      <td>A</td>\n",
       "      <td>6919.6100</td>\n",
       "      <td>3.08</td>\n",
       "      <td>-7.25</td>\n",
       "      <td>-23.05</td>\n",
       "      <td>-9.27</td>\n",
       "      <td>6</td>\n",
       "      <td>0.80</td>\n",
       "      <td>1.22</td>\n",
       "      <td>3.25</td>\n",
       "      <td>...</td>\n",
       "      <td>8396.0</td>\n",
       "      <td>168.0</td>\n",
       "      <td>4890.0</td>\n",
       "      <td>5659.0</td>\n",
       "      <td>-44.0</td>\n",
       "      <td>7986.0</td>\n",
       "      <td>0.0</td>\n",
       "      <td>2002.0</td>\n",
       "      <td>-0.486853</td>\n",
       "      <td>6.948052</td>\n",
       "    </tr>\n",
       "    <tr>\n",
       "      <th>2002-01-01</th>\n",
       "      <td>A</td>\n",
       "      <td>4324.6052</td>\n",
       "      <td>-20.07</td>\n",
       "      <td>-2.26</td>\n",
       "      <td>-54.40</td>\n",
       "      <td>-26.74</td>\n",
       "      <td>1</td>\n",
       "      <td>0.72</td>\n",
       "      <td>0.93</td>\n",
       "      <td>1.21</td>\n",
       "      <td>...</td>\n",
       "      <td>6010.0</td>\n",
       "      <td>-1032.0</td>\n",
       "      <td>3694.0</td>\n",
       "      <td>4627.0</td>\n",
       "      <td>-872.0</td>\n",
       "      <td>8203.0</td>\n",
       "      <td>1150.0</td>\n",
       "      <td>2181.0</td>\n",
       "      <td>-0.361791</td>\n",
       "      <td>5.163617</td>\n",
       "    </tr>\n",
       "    <tr>\n",
       "      <th>2003-01-01</th>\n",
       "      <td>A</td>\n",
       "      <td>7994.5585</td>\n",
       "      <td>-55.24</td>\n",
       "      <td>-10.47</td>\n",
       "      <td>-33.83</td>\n",
       "      <td>-16.11</td>\n",
       "      <td>2</td>\n",
       "      <td>1.78</td>\n",
       "      <td>2.83</td>\n",
       "      <td>1.62</td>\n",
       "      <td>...</td>\n",
       "      <td>4468.0</td>\n",
       "      <td>-2058.0</td>\n",
       "      <td>2633.0</td>\n",
       "      <td>2824.0</td>\n",
       "      <td>-358.0</td>\n",
       "      <td>6297.0</td>\n",
       "      <td>1150.0</td>\n",
       "      <td>1906.0</td>\n",
       "      <td>0.580165</td>\n",
       "      <td>3.297241</td>\n",
       "    </tr>\n",
       "  </tbody>\n",
       "</table>\n",
       "<p>5 rows × 29 columns</p>\n",
       "</div>"
      ],
      "text/plain": [
       "                CODE  VQ_MARKET_CAP  CSR__ROE  VR__EV_TO_EBIT  \\\n",
       "CODE YEAR                                                       \n",
       "A    1999-01-01    A         0.0000     15.99            0.00   \n",
       "     2000-01-01    A     14164.1760     17.51           13.40   \n",
       "     2001-01-01    A      6919.6100      3.08           -7.25   \n",
       "     2002-01-01    A      4324.6052    -20.07           -2.26   \n",
       "     2003-01-01    A      7994.5585    -55.24          -10.47   \n",
       "\n",
       "                 CSR__ROC_JOEL_GREENBLATT  CSR__OPERATING_MARGIN  \\\n",
       "CODE YEAR                                                          \n",
       "A    1999-01-01                     16.93                   6.18   \n",
       "     2000-01-01                     28.35                   9.87   \n",
       "     2001-01-01                    -23.05                  -9.27   \n",
       "     2002-01-01                    -54.40                 -26.74   \n",
       "     2003-01-01                    -33.83                 -16.11   \n",
       "\n",
       "                 VQ__PIOTROSKI_F_SCORE  VR__PS_RATIO  VR__PB_RATIO  \\\n",
       "CODE YEAR                                                            \n",
       "A    1999-01-01                      0          0.00          0.00   \n",
       "     2000-01-01                      6          1.46          2.69   \n",
       "     2001-01-01                      6          0.80          1.22   \n",
       "     2002-01-01                      1          0.72          0.93   \n",
       "     2003-01-01                      2          1.78          2.83   \n",
       "\n",
       "                 VQ__ALTMAN_Z_SCORE    ...      IS__REVENUE  IS__NET_INCOME  \\\n",
       "CODE YEAR                              ...                                    \n",
       "A    1999-01-01                1.94    ...           6830.0           512.0   \n",
       "     2000-01-01                4.86    ...           9361.0           757.0   \n",
       "     2001-01-01                3.25    ...           8396.0           168.0   \n",
       "     2002-01-01                1.21    ...           6010.0         -1032.0   \n",
       "     2003-01-01                1.62    ...           4468.0         -2058.0   \n",
       "\n",
       "                 IS__COST_OF_GOODS_SOLD  BS__TOTAL_EQUITY  IS__EBITDA  \\\n",
       "CODE YEAR                                                               \n",
       "A    1999-01-01                  3627.0            3382.0       862.0   \n",
       "     2000-01-01                  4586.0            5265.0      1384.0   \n",
       "     2001-01-01                  4890.0            5659.0       -44.0   \n",
       "     2002-01-01                  3694.0            4627.0      -872.0   \n",
       "     2003-01-01                  2633.0            2824.0      -358.0   \n",
       "\n",
       "                 BS__TOTAL_ASSETS  BS__LONG_TERM_DEBT  \\\n",
       "CODE YEAR                                               \n",
       "A    1999-01-01            5444.0                 0.0   \n",
       "     2000-01-01            8330.0                 0.0   \n",
       "     2001-01-01            7986.0                 0.0   \n",
       "     2002-01-01            8203.0              1150.0   \n",
       "     2003-01-01            6297.0              1150.0   \n",
       "\n",
       "                 BS__TOTAL_CURRENT_LIABILITIES   RETURNS       RISK  \n",
       "CODE YEAR                                                            \n",
       "A    1999-01-01                         1681.0  0.523529   6.648929  \n",
       "     2000-01-01                         2663.0 -0.176941  15.924856  \n",
       "     2001-01-01                         2002.0 -0.486853   6.948052  \n",
       "     2002-01-01                         2181.0 -0.361791   5.163617  \n",
       "     2003-01-01                         1906.0  0.580165   3.297241  \n",
       "\n",
       "[5 rows x 29 columns]"
      ]
     },
     "execution_count": 25,
     "metadata": {},
     "output_type": "execute_result"
    }
   ],
   "source": [
    "financialDFByCode = financialDFByCode.drop(['PRICE_START', 'PRICE_END'], axis=1) \n",
    "financialDFByCode.head()"
   ]
  },
  {
   "cell_type": "markdown",
   "metadata": {},
   "source": [
    "El caso de VQ_MARKET_CAP tampoco puede ser cero, voy a observar qué filas son las que vienen a cero para esa columna"
   ]
  },
  {
   "cell_type": "code",
   "execution_count": 26,
   "metadata": {},
   "outputs": [
    {
     "data": {
      "text/plain": [
       "147"
      ]
     },
     "execution_count": 26,
     "metadata": {},
     "output_type": "execute_result"
    }
   ],
   "source": [
    "lista_emp_sin_cap = (financialDFByCode[(financialDFByCode.VQ_MARKET_CAP == 0)].loc[:,['CODE','VQ_MARKET_CAP']])['CODE'].unique()\n",
    "len(lista_emp_sin_cap)"
   ]
  },
  {
   "cell_type": "markdown",
   "metadata": {},
   "source": [
    "Me voy a calzar también estas 147 empresas, en futuras iteraciones se puede intentar poner como capitalización el valor del año anterior."
   ]
  },
  {
   "cell_type": "code",
   "execution_count": 27,
   "metadata": {},
   "outputs": [
    {
     "name": "stdout",
     "output_type": "stream",
     "text": [
      "Número de empresas en el estudio 1172\n"
     ]
    },
    {
     "data": {
      "text/plain": [
       "(25658, 29)"
      ]
     },
     "execution_count": 27,
     "metadata": {},
     "output_type": "execute_result"
    }
   ],
   "source": [
    "financialDFByCode = financialDFByCode[~financialDFByCode['CODE'].isin(lista_emp_sin_cap)]\n",
    "lista_codigos = financialDFByCode['CODE'].unique()\n",
    "NUM_EMPRESAS = len(lista_codigos)\n",
    "print('Número de empresas en el estudio', NUM_EMPRESAS)\n",
    "financialDFByCode.shape"
   ]
  },
  {
   "cell_type": "markdown",
   "metadata": {},
   "source": [
    "**Prueba:** Me voy a quedar solo con las dos columnas de la fórmula mágica de greenblat:VR__EV_TO_EBIT y CSR__ROC_JOEL_GREENBLATT"
   ]
  },
  {
   "cell_type": "code",
   "execution_count": 28,
   "metadata": {},
   "outputs": [
    {
     "data": {
      "text/plain": [
       "(25658, 4)"
      ]
     },
     "execution_count": 28,
     "metadata": {},
     "output_type": "execute_result"
    }
   ],
   "source": [
    "financialDFByCode = financialDFByCode.loc[:,['CODE','VR__EV_TO_EBIT', 'CSR__ROC_JOEL_GREENBLATT', 'RETURNS']]\n",
    "financialDFByCode.shape"
   ]
  },
  {
   "cell_type": "code",
   "execution_count": 29,
   "metadata": {},
   "outputs": [
    {
     "data": {
      "text/html": [
       "<div>\n",
       "<style scoped>\n",
       "    .dataframe tbody tr th:only-of-type {\n",
       "        vertical-align: middle;\n",
       "    }\n",
       "\n",
       "    .dataframe tbody tr th {\n",
       "        vertical-align: top;\n",
       "    }\n",
       "\n",
       "    .dataframe thead th {\n",
       "        text-align: right;\n",
       "    }\n",
       "</style>\n",
       "<table border=\"1\" class=\"dataframe\">\n",
       "  <thead>\n",
       "    <tr style=\"text-align: right;\">\n",
       "      <th></th>\n",
       "      <th>VR__EV_TO_EBIT</th>\n",
       "      <th>CSR__ROC_JOEL_GREENBLATT</th>\n",
       "      <th>RETURNS</th>\n",
       "    </tr>\n",
       "  </thead>\n",
       "  <tbody>\n",
       "    <tr>\n",
       "      <th>count</th>\n",
       "      <td>2.565800e+04</td>\n",
       "      <td>2.565800e+04</td>\n",
       "      <td>25658.000000</td>\n",
       "    </tr>\n",
       "    <tr>\n",
       "      <th>mean</th>\n",
       "      <td>-1.968916e+02</td>\n",
       "      <td>1.428907e+14</td>\n",
       "      <td>0.249163</td>\n",
       "    </tr>\n",
       "    <tr>\n",
       "      <th>std</th>\n",
       "      <td>2.002773e+05</td>\n",
       "      <td>9.564786e+16</td>\n",
       "      <td>6.469114</td>\n",
       "    </tr>\n",
       "    <tr>\n",
       "      <th>min</th>\n",
       "      <td>-1.000000e+07</td>\n",
       "      <td>-7.407521e+18</td>\n",
       "      <td>-0.999556</td>\n",
       "    </tr>\n",
       "    <tr>\n",
       "      <th>25%</th>\n",
       "      <td>-5.000000e-01</td>\n",
       "      <td>-1.575000e-01</td>\n",
       "      <td>-0.192264</td>\n",
       "    </tr>\n",
       "    <tr>\n",
       "      <th>50%</th>\n",
       "      <td>1.014000e+01</td>\n",
       "      <td>1.433000e+01</td>\n",
       "      <td>0.056197</td>\n",
       "    </tr>\n",
       "    <tr>\n",
       "      <th>75%</th>\n",
       "      <td>1.677000e+01</td>\n",
       "      <td>3.839000e+01</td>\n",
       "      <td>0.336390</td>\n",
       "    </tr>\n",
       "    <tr>\n",
       "      <th>max</th>\n",
       "      <td>1.000000e+07</td>\n",
       "      <td>1.323554e+19</td>\n",
       "      <td>999.000000</td>\n",
       "    </tr>\n",
       "  </tbody>\n",
       "</table>\n",
       "</div>"
      ],
      "text/plain": [
       "       VR__EV_TO_EBIT  CSR__ROC_JOEL_GREENBLATT       RETURNS\n",
       "count    2.565800e+04              2.565800e+04  25658.000000\n",
       "mean    -1.968916e+02              1.428907e+14      0.249163\n",
       "std      2.002773e+05              9.564786e+16      6.469114\n",
       "min     -1.000000e+07             -7.407521e+18     -0.999556\n",
       "25%     -5.000000e-01             -1.575000e-01     -0.192264\n",
       "50%      1.014000e+01              1.433000e+01      0.056197\n",
       "75%      1.677000e+01              3.839000e+01      0.336390\n",
       "max      1.000000e+07              1.323554e+19    999.000000"
      ]
     },
     "execution_count": 29,
     "metadata": {},
     "output_type": "execute_result"
    }
   ],
   "source": [
    "financialDFByCode.describe()"
   ]
  },
  {
   "cell_type": "markdown",
   "metadata": {},
   "source": [
    "Observo valores anómalos en RETURNS, ya que un 99900% de rentabilidad es excesivo."
   ]
  },
  {
   "cell_type": "code",
   "execution_count": 19,
   "metadata": {},
   "outputs": [
    {
     "data": {
      "image/png": "[encoded data removed]",
      "text/plain": [
       "<matplotlib.figure.Figure at 0x7f2574fa5d68>"
      ]
     },
     "metadata": {},
     "output_type": "display_data"
    }
   ],
   "source": [
    "financialDFByCode.boxplot(column=['RETURNS'])\n",
    "plt.show()"
   ]
  },
  {
   "cell_type": "code",
   "execution_count": 30,
   "metadata": {},
   "outputs": [
    {
     "data": {
      "text/plain": [
       "(6537, 4)"
      ]
     },
     "execution_count": 30,
     "metadata": {},
     "output_type": "execute_result"
    }
   ],
   "source": [
    "returnsOutliers = (financialDFByCode[(financialDFByCode.RETURNS > 0.33)].loc[:,:])\n",
    "returnsOutliers.shape"
   ]
  },
  {
   "cell_type": "code",
   "execution_count": 31,
   "metadata": {},
   "outputs": [
    {
     "data": {
      "text/plain": [
       "(19121, 4)"
      ]
     },
     "execution_count": 31,
     "metadata": {},
     "output_type": "execute_result"
    }
   ],
   "source": [
    "returnsNoOutliers = (financialDFByCode[(financialDFByCode.RETURNS < 0.33)].loc[:,:])\n",
    "returnsNoOutliers.shape"
   ]
  },
  {
   "cell_type": "code",
   "execution_count": 17,
   "metadata": {},
   "outputs": [],
   "source": [
    "returnsNoOutliers = (financialDFByCode[(financialDFByCode.RETURNS < 1)].loc[:,:])"
   ]
  },
  {
   "cell_type": "code",
   "execution_count": 18,
   "metadata": {},
   "outputs": [
    {
     "data": {
      "text/plain": [
       "(5727, 31)"
      ]
     },
     "execution_count": 18,
     "metadata": {},
     "output_type": "execute_result"
    }
   ],
   "source": [
    "returnsOutliers.shape"
   ]
  },
  {
   "cell_type": "code",
   "execution_count": null,
   "metadata": {},
   "outputs": [],
   "source": [
    "len(returnsNoOutliers['CODE'].unique())"
   ]
  },
  {
   "cell_type": "markdown",
   "metadata": {},
   "source": [
    "# TODO: ANÁLISIS INDIVIDUAL DE LAS COLUMNAS A CERO"
   ]
  },
  {
   "cell_type": "markdown",
   "metadata": {},
   "source": [
    "Primero vamos a establecer un modelo básico (la predicción del valor en el momento t+1 es la misma que la del valor t) y a medir su rendimiento. Nos servirá como punto de partida para comparar la mejora en los siguientes algoritmos"
   ]
  },
  {
   "cell_type": "markdown",
   "metadata": {},
   "source": [
    "### Persistence model"
   ]
  },
  {
   "cell_type": "code",
   "execution_count": null,
   "metadata": {},
   "outputs": [],
   "source": [
    "series = financialDFByCode.loc[:,'RETURNS']"
   ]
  },
  {
   "cell_type": "code",
   "execution_count": null,
   "metadata": {},
   "outputs": [],
   "source": [
    "# persistence model\n",
    "def model_persistence(x):\n",
    "    return x"
   ]
  },
  {
   "cell_type": "code",
   "execution_count": null,
   "metadata": {},
   "outputs": [],
   "source": [
    "def create_model(serie, split_value):\n",
    "    # create lagged dataset\n",
    "    values = pd.DataFrame(serie.values)\n",
    "    dataframe = pd.concat([values.shift(1), values], axis=1)\n",
    "    dataframe.columns = ['t', 't+1']\n",
    "    # split into train and test sets\n",
    "    X = dataframe.values\n",
    "    limite = int(len(X)*split_value)\n",
    "    if split_value == 1:\n",
    "        limite = 1\n",
    "    train, test = X[1:len(X)-limite], X[len(X)-limite:]    \n",
    "    train_X, train_y = train[:,0], train[:,1]\n",
    "    test_X, test_y = test[:,0], test[:,1]\n",
    "\n",
    "    # walk-forward validation\n",
    "    predictions = list()\n",
    "    for x in test_X:\n",
    "        yhat = model_persistence(x)\n",
    "        predictions.append(yhat)\n",
    "    rmse = sqrt(mean_squared_error(test_y, predictions))\n",
    "    return test_y,predictions,rmse    "
   ]
  },
  {
   "cell_type": "code",
   "execution_count": null,
   "metadata": {
    "scrolled": true
   },
   "outputs": [],
   "source": [
    "plt.clf()\n",
    "seriePorSimbolo = series.groupby(['CODE'])\n",
    "i = 1\n",
    "plt.figure(figsize=(20,20))\n",
    "persistence_model = list()\n",
    "for code, group in seriePorSimbolo:    \n",
    "    plt.subplot(4, 5, i)\n",
    "    test_y,predictions,rmse = create_model(group, 0.6) #En realidad habría que poner un 0.2, pero para que los gráficos queden mas molones ponemos 0.6\n",
    "    strRmse = ') rmse: %.3f'%rmse\n",
    "    title = code + '(' + str(len(group)) + strRmse\n",
    "    plt.title(title)\n",
    "    # plot predictions vs expected\n",
    "    plt.plot(test_y)\n",
    "    plt.plot(predictions, color='red')\n",
    "    if i == 20:\n",
    "        i=0\n",
    "        plt.show()\n",
    "        plt.figure(figsize=(20,20))\n",
    "    i = i+1"
   ]
  },
  {
   "cell_type": "code",
   "execution_count": null,
   "metadata": {},
   "outputs": [],
   "source": [
    "#Predigo solo el último valor, es decir, para el 2017 devuelvo lo mismo que obtuve en 2016\n",
    "#El rmse será el error producido entre el valor real de 2017 y el que se devolvió (valor a 2016)\n",
    "#Esto me va a servir para comparar este modelo con el resto\n",
    "persistence_model = list()\n",
    "for code, group in seriePorSimbolo:    \n",
    "    test_y,predictions,rmse = create_model(group, 1)                                                     \n",
    "    persistence_model.append({'codigo':code, 'prediction':predictions, 'rmse': rmse})"
   ]
  },
  {
   "cell_type": "markdown",
   "metadata": {},
   "source": [
    "### VAR (Vector Auto Regression)\n",
    "\n",
    "Partiendo del modelo anterior, vamos a aplicar distintos algoritmos que lo mejoren. El primero de ellos será VAR."
   ]
  },
  {
   "cell_type": "code",
   "execution_count": null,
   "metadata": {},
   "outputs": [],
   "source": [
    "from statsmodels.tsa.vector_ar.var_model import VAR\n",
    "\n",
    "excepciones = []\n",
    "predictions = list()\n",
    "for c in lista_codigos:\n",
    "    data = financialDFByCode.loc[c]\n",
    "    data = data.drop(['CODE'], axis=1) \n",
    "    #creating the train and validation set\n",
    "    train = data[:int(0.8*(len(data)))]\n",
    "    valid = data[int(0.8*(len(data))):]\n",
    "    try:\n",
    "        #fit the model\n",
    "        model = VAR(endog=train)\n",
    "        model_fit = model.fit()\n",
    "\n",
    "        # make prediction on validation    \n",
    "        p = model_fit.forecast(model_fit.y, steps=len(valid))\n",
    "        predictions.append({'codigo':c, 'prediction':p, 'valid': valid})\n",
    "    except:\n",
    "        excepciones.append(c)"
   ]
  },
  {
   "cell_type": "code",
   "execution_count": null,
   "metadata": {},
   "outputs": [],
   "source": [
    "print('Hay',str(len(excepciones)),'empresas que no se han podido predecir')"
   ]
  },
  {
   "cell_type": "markdown",
   "metadata": {},
   "source": [
    "Obtenemos los RMSE de cada empresa para la columna RETURNS (nuestra target)"
   ]
  },
  {
   "cell_type": "code",
   "execution_count": null,
   "metadata": {},
   "outputs": [],
   "source": [
    "cols = (financialDFByCode.drop(['CODE'], axis=1)).columns\n",
    "#converting predictions to dataframe\n",
    "var_model=list()\n",
    "for prediction_companya in predictions:\n",
    "    prediction = prediction_companya['prediction'] \n",
    "    valid = prediction_companya['valid'] \n",
    "    pred = pd.DataFrame(index=range(0,len(prediction)),columns=[cols])\n",
    "    for j in range(0,len(cols)):\n",
    "        for i in range(0, len(prediction)):\n",
    "            pred.iloc[i][j] = prediction[i][j]\n",
    "\n",
    "    rmse = sqrt(mean_squared_error(pred['RETURNS'], valid['RETURNS']))    \n",
    "    print('rmse para', prediction_companya['codigo'], sqrt(mean_squared_error(pred['RETURNS'], valid['RETURNS'])))\n",
    "    "
   ]
  },
  {
   "cell_type": "markdown",
   "metadata": {},
   "source": [
    "Aparentemente los resultados son muy malos, peores que los del modelo básico. Para comprobarlo, vamos a realizar la predicción del 2017 y a compararla con el valor real, calculando así el RMSE. Después lo comprararemos con el resultado obtenido con el persistence_model"
   ]
  },
  {
   "cell_type": "code",
   "execution_count": null,
   "metadata": {},
   "outputs": [],
   "source": [
    "#make final predictions\n",
    "var_model = list()\n",
    "for c in lista_codigos:\n",
    "    data = financialDFByCode.loc[c]\n",
    "    data = data[0:len(data)-1]  #Le quito el último anyo, hago la predicción de 2017 para poder comparar con el otro modelo\n",
    "    data = data.drop(['CODE'], axis=1) \n",
    "    index_returns = data.columns.get_loc('RETURNS')    \n",
    "    model = VAR(endog=data)\n",
    "    try :\n",
    "        model_fit = model.fit()\n",
    "        yhat = model_fit.forecast(model_fit.y, steps=1)        \n",
    "        #predicciones_finales.append({'codigo':c, 'prediction':yhat[0][26]})\n",
    "        test_y = financialDFByCode.loc[c].loc[:,'RETURNS'][-1] #RETURNS de 2017        \n",
    "        rmse = sqrt(mean_squared_error(np.atleast_1d(test_y), np.atleast_1d(yhat[0][index_returns]))) \n",
    "        var_model.append({'codigo':c, 'prediction':yhat[0][index_returns], 'rmse': rmse})\n",
    "    except:\n",
    "        pass"
   ]
  },
  {
   "cell_type": "markdown",
   "metadata": {},
   "source": [
    "Pintamos los resultados del persistence_model vs VAR"
   ]
  },
  {
   "cell_type": "code",
   "execution_count": null,
   "metadata": {},
   "outputs": [],
   "source": [
    "num_mejores_pred = 0\n",
    "for elem_var in var_model:\n",
    "    for elem_per in persistence_model:\n",
    "        if elem_per['codigo'] == elem_var['codigo']:\n",
    "            print('Compañía:', elem_var['codigo'], 'RMSE(1):', elem_per['rmse'], 'RMSE(2)',elem_var['rmse'])\n",
    "            if elem_per['rmse']>elem_var['rmse']:\n",
    "                num_mejores_pred = num_mejores_pred + 1"
   ]
  },
  {
   "cell_type": "code",
   "execution_count": null,
   "metadata": {},
   "outputs": [],
   "source": [
    "print('El VAR ha sido mejor', num_mejores_pred, 'veces de', len(var_model))                "
   ]
  }
 ],
 "metadata": {
  "kernelspec": {
   "display_name": "Python 3",
   "language": "python",
   "name": "python3"
  },
  "language_info": {
   "codemirror_mode": {
    "name": "ipython",
    "version": 3
   },
   "file_extension": ".py",
   "mimetype": "text/x-python",
   "name": "python",
   "nbconvert_exporter": "python",
   "pygments_lexer": "ipython3",
   "version": "3.5.2"
  }
 },
 "nbformat": 4,
 "nbformat_minor": 2
}
