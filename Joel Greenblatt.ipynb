{
 "cells": [
  {
   "cell_type": "markdown",
   "metadata": {},
   "source": [
    "# Librerias"
   ]
  },
  {
   "cell_type": "code",
   "execution_count": 1,
   "metadata": {},
   "outputs": [],
   "source": [
    "import numpy as np\n",
    "import pandas as pd\n",
    "import seaborn as sns\n",
    "import graphviz\n",
    "\n",
    "import matplotlib.pyplot as plt\n",
    "from matplotlib.colors import ListedColormap\n",
    "%matplotlib inline\n",
    "\n",
    "cm = plt.cm.RdBu\n",
    "cm_bright = ListedColormap(['#FF0000', '#0000FF'])\n",
    "\n",
    "import warnings\n",
    "warnings.filterwarnings('ignore')\n",
    "\n",
    "from sklearn.preprocessing import LabelEncoder, StandardScaler\n",
    "from sklearn.model_selection import train_test_split, GridSearchCV\n",
    "from sklearn.feature_selection import f_classif, mutual_info_classif\n",
    "from sklearn.metrics import mean_squared_error\n",
    "from sklearn.linear_model import LinearRegression\n",
    "from sklearn.tree import DecisionTreeRegressor\n",
    "from sklearn.ensemble import RandomForestRegressor\n",
    "\n",
    "import xgboost as xgb"
   ]
  },
  {
   "cell_type": "markdown",
   "metadata": {},
   "source": [
    "# Análisis exploratorio"
   ]
  },
  {
   "cell_type": "code",
   "execution_count": 2,
   "metadata": {},
   "outputs": [
    {
     "data": {
      "text/plain": [
       "(87438, 43)"
      ]
     },
     "execution_count": 2,
     "metadata": {},
     "output_type": "execute_result"
    }
   ],
   "source": [
    "data = pd.read_csv('Data/ds_index_next.csv')\n",
    "data.shape"
   ]
  },
  {
   "cell_type": "code",
   "execution_count": 3,
   "metadata": {},
   "outputs": [
    {
     "data": {
      "text/html": [
       "<div>\n",
       "<style scoped>\n",
       "    .dataframe tbody tr th:only-of-type {\n",
       "        vertical-align: middle;\n",
       "    }\n",
       "\n",
       "    .dataframe tbody tr th {\n",
       "        vertical-align: top;\n",
       "    }\n",
       "\n",
       "    .dataframe thead th {\n",
       "        text-align: right;\n",
       "    }\n",
       "</style>\n",
       "<table border=\"1\" class=\"dataframe\">\n",
       "  <thead>\n",
       "    <tr style=\"text-align: right;\">\n",
       "      <th></th>\n",
       "      <th>YEAR</th>\n",
       "      <th>CODE</th>\n",
       "      <th>VQ_MARKET_CAP</th>\n",
       "      <th>CSR__ROE</th>\n",
       "      <th>VR__EV_TO_EBIT</th>\n",
       "      <th>CSR__ROC_JOEL_GREENBLATT</th>\n",
       "      <th>CSR__OPERATING_MARGIN</th>\n",
       "      <th>VQ__PIOTROSKI_F_SCORE</th>\n",
       "      <th>VR__PS_RATIO</th>\n",
       "      <th>VR__PB_RATIO</th>\n",
       "      <th>...</th>\n",
       "      <th>RISK</th>\n",
       "      <th>INDUSTRY01</th>\n",
       "      <th>INDUSTRY02</th>\n",
       "      <th>RETURNS_NEXT</th>\n",
       "      <th>RETURNS_CAT</th>\n",
       "      <th>RETURNS_NEXT_CAT</th>\n",
       "      <th>INDEX_RETURNS</th>\n",
       "      <th>INDEX_RETURNS_NEXT</th>\n",
       "      <th>RETURNS_vs_INDEX</th>\n",
       "      <th>RETURNS_vs_INDEX_NEXT</th>\n",
       "    </tr>\n",
       "  </thead>\n",
       "  <tbody>\n",
       "    <tr>\n",
       "      <th>0</th>\n",
       "      <td>2014</td>\n",
       "      <td>ETE</td>\n",
       "      <td>31002.7009</td>\n",
       "      <td>72.22</td>\n",
       "      <td>28.98</td>\n",
       "      <td>8.00</td>\n",
       "      <td>5.10</td>\n",
       "      <td>7</td>\n",
       "      <td>0.56</td>\n",
       "      <td>46.73</td>\n",
       "      <td>...</td>\n",
       "      <td>3.472920</td>\n",
       "      <td>NaN</td>\n",
       "      <td>NaN</td>\n",
       "      <td>-0.512675</td>\n",
       "      <td>POSITIVE</td>\n",
       "      <td>NEGATIVE</td>\n",
       "      <td>0.123866</td>\n",
       "      <td>-0.006928</td>\n",
       "      <td>WINS</td>\n",
       "      <td>LOSES</td>\n",
       "    </tr>\n",
       "    <tr>\n",
       "      <th>1</th>\n",
       "      <td>2010</td>\n",
       "      <td>ETE</td>\n",
       "      <td>8712.4952</td>\n",
       "      <td>317.83</td>\n",
       "      <td>24.53</td>\n",
       "      <td>9.21</td>\n",
       "      <td>15.92</td>\n",
       "      <td>5</td>\n",
       "      <td>1.33</td>\n",
       "      <td>72.37</td>\n",
       "      <td>...</td>\n",
       "      <td>0.730981</td>\n",
       "      <td>NaN</td>\n",
       "      <td>NaN</td>\n",
       "      <td>0.045082</td>\n",
       "      <td>POSITIVE</td>\n",
       "      <td>POSITIVE</td>\n",
       "      <td>0.110019</td>\n",
       "      <td>-0.011220</td>\n",
       "      <td>WINS</td>\n",
       "      <td>WINS</td>\n",
       "    </tr>\n",
       "    <tr>\n",
       "      <th>2</th>\n",
       "      <td>2015</td>\n",
       "      <td>ETE</td>\n",
       "      <td>14384.6808</td>\n",
       "      <td>0.00</td>\n",
       "      <td>28.67</td>\n",
       "      <td>5.90</td>\n",
       "      <td>7.28</td>\n",
       "      <td>7</td>\n",
       "      <td>0.41</td>\n",
       "      <td>0.00</td>\n",
       "      <td>...</td>\n",
       "      <td>6.159618</td>\n",
       "      <td>NaN</td>\n",
       "      <td>NaN</td>\n",
       "      <td>0.897959</td>\n",
       "      <td>NEGATIVE</td>\n",
       "      <td>POSITIVE</td>\n",
       "      <td>-0.006928</td>\n",
       "      <td>0.112374</td>\n",
       "      <td>LOSES</td>\n",
       "      <td>WINS</td>\n",
       "    </tr>\n",
       "    <tr>\n",
       "      <th>3</th>\n",
       "      <td>2012</td>\n",
       "      <td>ETE</td>\n",
       "      <td>12732.3534</td>\n",
       "      <td>27.89</td>\n",
       "      <td>19.82</td>\n",
       "      <td>11.46</td>\n",
       "      <td>8.02</td>\n",
       "      <td>5</td>\n",
       "      <td>0.73</td>\n",
       "      <td>6.03</td>\n",
       "      <td>...</td>\n",
       "      <td>0.649843</td>\n",
       "      <td>NaN</td>\n",
       "      <td>NaN</td>\n",
       "      <td>0.657980</td>\n",
       "      <td>POSITIVE</td>\n",
       "      <td>POSITIVE</td>\n",
       "      <td>0.116776</td>\n",
       "      <td>0.263905</td>\n",
       "      <td>WINS</td>\n",
       "      <td>WINS</td>\n",
       "    </tr>\n",
       "    <tr>\n",
       "      <th>4</th>\n",
       "      <td>2007</td>\n",
       "      <td>ETE</td>\n",
       "      <td>8191.2308</td>\n",
       "      <td>2122.84</td>\n",
       "      <td>25.13</td>\n",
       "      <td>14.74</td>\n",
       "      <td>11.92</td>\n",
       "      <td>5</td>\n",
       "      <td>1.16</td>\n",
       "      <td>0.00</td>\n",
       "      <td>...</td>\n",
       "      <td>0.797453</td>\n",
       "      <td>NaN</td>\n",
       "      <td>NaN</td>\n",
       "      <td>-0.502987</td>\n",
       "      <td>POSITIVE</td>\n",
       "      <td>NEGATIVE</td>\n",
       "      <td>0.036538</td>\n",
       "      <td>-0.375847</td>\n",
       "      <td>WINS</td>\n",
       "      <td>LOSES</td>\n",
       "    </tr>\n",
       "  </tbody>\n",
       "</table>\n",
       "<p>5 rows × 43 columns</p>\n",
       "</div>"
      ],
      "text/plain": [
       "   YEAR CODE  VQ_MARKET_CAP  CSR__ROE  VR__EV_TO_EBIT  \\\n",
       "0  2014  ETE     31002.7009     72.22           28.98   \n",
       "1  2010  ETE      8712.4952    317.83           24.53   \n",
       "2  2015  ETE     14384.6808      0.00           28.67   \n",
       "3  2012  ETE     12732.3534     27.89           19.82   \n",
       "4  2007  ETE      8191.2308   2122.84           25.13   \n",
       "\n",
       "   CSR__ROC_JOEL_GREENBLATT  CSR__OPERATING_MARGIN  VQ__PIOTROSKI_F_SCORE  \\\n",
       "0                      8.00                   5.10                      7   \n",
       "1                      9.21                  15.92                      5   \n",
       "2                      5.90                   7.28                      7   \n",
       "3                     11.46                   8.02                      5   \n",
       "4                     14.74                  11.92                      5   \n",
       "\n",
       "   VR__PS_RATIO  VR__PB_RATIO          ...                RISK  INDUSTRY01  \\\n",
       "0          0.56         46.73          ...            3.472920         NaN   \n",
       "1          1.33         72.37          ...            0.730981         NaN   \n",
       "2          0.41          0.00          ...            6.159618         NaN   \n",
       "3          0.73          6.03          ...            0.649843         NaN   \n",
       "4          1.16          0.00          ...            0.797453         NaN   \n",
       "\n",
       "   INDUSTRY02  RETURNS_NEXT  RETURNS_CAT  RETURNS_NEXT_CAT  INDEX_RETURNS  \\\n",
       "0         NaN     -0.512675     POSITIVE          NEGATIVE       0.123866   \n",
       "1         NaN      0.045082     POSITIVE          POSITIVE       0.110019   \n",
       "2         NaN      0.897959     NEGATIVE          POSITIVE      -0.006928   \n",
       "3         NaN      0.657980     POSITIVE          POSITIVE       0.116776   \n",
       "4         NaN     -0.502987     POSITIVE          NEGATIVE       0.036538   \n",
       "\n",
       "   INDEX_RETURNS_NEXT  RETURNS_vs_INDEX  RETURNS_vs_INDEX_NEXT  \n",
       "0           -0.006928              WINS                  LOSES  \n",
       "1           -0.011220              WINS                   WINS  \n",
       "2            0.112374             LOSES                   WINS  \n",
       "3            0.263905              WINS                   WINS  \n",
       "4           -0.375847              WINS                  LOSES  \n",
       "\n",
       "[5 rows x 43 columns]"
      ]
     },
     "execution_count": 3,
     "metadata": {},
     "output_type": "execute_result"
    }
   ],
   "source": [
    "data.head()"
   ]
  },
  {
   "cell_type": "markdown",
   "metadata": {},
   "source": [
    "## Preprocesamiento de variables"
   ]
  },
  {
   "cell_type": "code",
   "execution_count": 4,
   "metadata": {},
   "outputs": [
    {
     "data": {
      "text/html": [
       "<div>\n",
       "<style scoped>\n",
       "    .dataframe tbody tr th:only-of-type {\n",
       "        vertical-align: middle;\n",
       "    }\n",
       "\n",
       "    .dataframe tbody tr th {\n",
       "        vertical-align: top;\n",
       "    }\n",
       "\n",
       "    .dataframe thead th {\n",
       "        text-align: right;\n",
       "    }\n",
       "</style>\n",
       "<table border=\"1\" class=\"dataframe\">\n",
       "  <thead>\n",
       "    <tr style=\"text-align: right;\">\n",
       "      <th></th>\n",
       "      <th>YEAR</th>\n",
       "      <th>CODE</th>\n",
       "      <th>CSR__ROC_JOEL_GREENBLATT</th>\n",
       "      <th>VR__EV_TO_EBIT</th>\n",
       "      <th>RETURNS_NEXT</th>\n",
       "    </tr>\n",
       "  </thead>\n",
       "  <tbody>\n",
       "    <tr>\n",
       "      <th>0</th>\n",
       "      <td>2014</td>\n",
       "      <td>ETE</td>\n",
       "      <td>8.00</td>\n",
       "      <td>28.98</td>\n",
       "      <td>-0.512675</td>\n",
       "    </tr>\n",
       "    <tr>\n",
       "      <th>1</th>\n",
       "      <td>2010</td>\n",
       "      <td>ETE</td>\n",
       "      <td>9.21</td>\n",
       "      <td>24.53</td>\n",
       "      <td>0.045082</td>\n",
       "    </tr>\n",
       "    <tr>\n",
       "      <th>2</th>\n",
       "      <td>2015</td>\n",
       "      <td>ETE</td>\n",
       "      <td>5.90</td>\n",
       "      <td>28.67</td>\n",
       "      <td>0.897959</td>\n",
       "    </tr>\n",
       "    <tr>\n",
       "      <th>3</th>\n",
       "      <td>2012</td>\n",
       "      <td>ETE</td>\n",
       "      <td>11.46</td>\n",
       "      <td>19.82</td>\n",
       "      <td>0.657980</td>\n",
       "    </tr>\n",
       "    <tr>\n",
       "      <th>4</th>\n",
       "      <td>2007</td>\n",
       "      <td>ETE</td>\n",
       "      <td>14.74</td>\n",
       "      <td>25.13</td>\n",
       "      <td>-0.502987</td>\n",
       "    </tr>\n",
       "  </tbody>\n",
       "</table>\n",
       "</div>"
      ],
      "text/plain": [
       "   YEAR CODE  CSR__ROC_JOEL_GREENBLATT  VR__EV_TO_EBIT  RETURNS_NEXT\n",
       "0  2014  ETE                      8.00           28.98     -0.512675\n",
       "1  2010  ETE                      9.21           24.53      0.045082\n",
       "2  2015  ETE                      5.90           28.67      0.897959\n",
       "3  2012  ETE                     11.46           19.82      0.657980\n",
       "4  2007  ETE                     14.74           25.13     -0.502987"
      ]
     },
     "execution_count": 4,
     "metadata": {},
     "output_type": "execute_result"
    }
   ],
   "source": [
    "gb = data[['YEAR', 'CODE', 'CSR__ROC_JOEL_GREENBLATT', 'VR__EV_TO_EBIT', 'RETURNS_NEXT']]\n",
    "gb.head()"
   ]
  },
  {
   "cell_type": "code",
   "execution_count": 5,
   "metadata": {},
   "outputs": [
    {
     "data": {
      "text/html": [
       "<div>\n",
       "<style scoped>\n",
       "    .dataframe tbody tr th:only-of-type {\n",
       "        vertical-align: middle;\n",
       "    }\n",
       "\n",
       "    .dataframe tbody tr th {\n",
       "        vertical-align: top;\n",
       "    }\n",
       "\n",
       "    .dataframe thead th {\n",
       "        text-align: right;\n",
       "    }\n",
       "</style>\n",
       "<table border=\"1\" class=\"dataframe\">\n",
       "  <thead>\n",
       "    <tr style=\"text-align: right;\">\n",
       "      <th></th>\n",
       "      <th>YEAR</th>\n",
       "      <th>CODE</th>\n",
       "      <th>CSR__ROC_JOEL_GREENBLATT</th>\n",
       "      <th>VR__EV_TO_EBIT</th>\n",
       "      <th>RETURNS_NEXT</th>\n",
       "      <th>CSR__ROC_JOEL_GREENBLATT_RANKING</th>\n",
       "      <th>VR__EV_TO_EBIT_RANKING</th>\n",
       "      <th>RETURNS_NEXT_RANKING</th>\n",
       "    </tr>\n",
       "  </thead>\n",
       "  <tbody>\n",
       "    <tr>\n",
       "      <th>0</th>\n",
       "      <td>2014</td>\n",
       "      <td>ETE</td>\n",
       "      <td>8.00</td>\n",
       "      <td>28.98</td>\n",
       "      <td>-0.512675</td>\n",
       "      <td>2315.0</td>\n",
       "      <td>516.0</td>\n",
       "      <td>3934.0</td>\n",
       "    </tr>\n",
       "    <tr>\n",
       "      <th>1</th>\n",
       "      <td>2010</td>\n",
       "      <td>ETE</td>\n",
       "      <td>9.21</td>\n",
       "      <td>24.53</td>\n",
       "      <td>0.045082</td>\n",
       "      <td>1697.0</td>\n",
       "      <td>415.0</td>\n",
       "      <td>901.0</td>\n",
       "    </tr>\n",
       "    <tr>\n",
       "      <th>2</th>\n",
       "      <td>2015</td>\n",
       "      <td>ETE</td>\n",
       "      <td>5.90</td>\n",
       "      <td>28.67</td>\n",
       "      <td>0.897959</td>\n",
       "      <td>2338.0</td>\n",
       "      <td>516.0</td>\n",
       "      <td>389.0</td>\n",
       "    </tr>\n",
       "    <tr>\n",
       "      <th>3</th>\n",
       "      <td>2012</td>\n",
       "      <td>ETE</td>\n",
       "      <td>11.46</td>\n",
       "      <td>19.82</td>\n",
       "      <td>0.657980</td>\n",
       "      <td>1712.0</td>\n",
       "      <td>525.0</td>\n",
       "      <td>651.0</td>\n",
       "    </tr>\n",
       "    <tr>\n",
       "      <th>4</th>\n",
       "      <td>2007</td>\n",
       "      <td>ETE</td>\n",
       "      <td>14.74</td>\n",
       "      <td>25.13</td>\n",
       "      <td>-0.502987</td>\n",
       "      <td>1001.0</td>\n",
       "      <td>291.0</td>\n",
       "      <td>1065.0</td>\n",
       "    </tr>\n",
       "  </tbody>\n",
       "</table>\n",
       "</div>"
      ],
      "text/plain": [
       "   YEAR CODE  CSR__ROC_JOEL_GREENBLATT  VR__EV_TO_EBIT  RETURNS_NEXT  \\\n",
       "0  2014  ETE                      8.00           28.98     -0.512675   \n",
       "1  2010  ETE                      9.21           24.53      0.045082   \n",
       "2  2015  ETE                      5.90           28.67      0.897959   \n",
       "3  2012  ETE                     11.46           19.82      0.657980   \n",
       "4  2007  ETE                     14.74           25.13     -0.502987   \n",
       "\n",
       "   CSR__ROC_JOEL_GREENBLATT_RANKING  VR__EV_TO_EBIT_RANKING  \\\n",
       "0                            2315.0                   516.0   \n",
       "1                            1697.0                   415.0   \n",
       "2                            2338.0                   516.0   \n",
       "3                            1712.0                   525.0   \n",
       "4                            1001.0                   291.0   \n",
       "\n",
       "   RETURNS_NEXT_RANKING  \n",
       "0                3934.0  \n",
       "1                 901.0  \n",
       "2                 389.0  \n",
       "3                 651.0  \n",
       "4                1065.0  "
      ]
     },
     "execution_count": 5,
     "metadata": {},
     "output_type": "execute_result"
    }
   ],
   "source": [
    "gb.query('YEAR > 1990 & YEAR < 2016', inplace=True)\n",
    "gb.dropna(inplace=True)\n",
    "gb['CSR__ROC_JOEL_GREENBLATT_RANKING'] = gb.groupby(by=['YEAR'])['CSR__ROC_JOEL_GREENBLATT'] \\\n",
    "        .transform(lambda x: x.rank(method='dense', ascending=False))\n",
    "gb['VR__EV_TO_EBIT_RANKING'] = gb.groupby(by=['YEAR'])['VR__EV_TO_EBIT'] \\\n",
    "        .transform(lambda x: x.rank(method='dense', ascending=False))\n",
    "gb['RETURNS_NEXT_RANKING'] = gb.groupby(by=['YEAR'])['RETURNS_NEXT'] \\\n",
    "        .transform(lambda x: x.rank(method='dense', ascending=False))\n",
    "gb.head()"
   ]
  },
  {
   "cell_type": "markdown",
   "metadata": {},
   "source": [
    "# Aproximación 1"
   ]
  },
  {
   "cell_type": "code",
   "execution_count": 6,
   "metadata": {},
   "outputs": [],
   "source": [
    "gb1 = gb[['CSR__ROC_JOEL_GREENBLATT_RANKING', 'VR__EV_TO_EBIT_RANKING', 'RETURNS_NEXT_RANKING']]"
   ]
  },
  {
   "cell_type": "markdown",
   "metadata": {},
   "source": [
    "## División y escalado de datos"
   ]
  },
  {
   "cell_type": "code",
   "execution_count": 7,
   "metadata": {},
   "outputs": [],
   "source": [
    "X1 = gb1.drop(['RETURNS_NEXT_RANKING'], axis=1)\n",
    "y1 = gb1['RETURNS_NEXT_RANKING']\n",
    "\n",
    "feature_names = X1.columns\n",
    "\n",
    "X1_train, X1_test, y1_train, y1_test = train_test_split(X1, y1, shuffle= True, random_state=10, test_size=0.20)"
   ]
  },
  {
   "cell_type": "markdown",
   "metadata": {},
   "source": [
    "## Algoritmos"
   ]
  },
  {
   "cell_type": "markdown",
   "metadata": {},
   "source": [
    "### Linear Regression"
   ]
  },
  {
   "cell_type": "code",
   "execution_count": 8,
   "metadata": {},
   "outputs": [
    {
     "name": "stdout",
     "output_type": "stream",
     "text": [
      "MSE Modelo Lineal Simple (train): 999489.3\n",
      "MSE Modelo Lineal Simple (test) : 1000655\n",
      "R^2 (train): 0.2283\n",
      "R^2 (test): 0.2338\n",
      "Coefficients:\n",
      "CSR__ROC_JOEL_GREENBLATT_RANKING 0.3400967286036717\n",
      "VR__EV_TO_EBIT_RANKING 0.28812920387373175\n",
      "Intercept: 678.0111108846475\n"
     ]
    }
   ],
   "source": [
    "lr = LinearRegression()\n",
    "lr.fit(X1_train, y1_train)\n",
    "\n",
    "y1_pred_train = lr.predict(X1_train)\n",
    "y1_pred_test = lr.predict(X1_test)\n",
    "\n",
    "mseTrainModelLR1 = mean_squared_error(y1_train, y1_pred_train)\n",
    "mseTestModelLR1 = mean_squared_error(y1_test, y1_pred_test)\n",
    "\n",
    "print('MSE Modelo Lineal Simple (train): %0.7g' % mseTrainModelLR1)\n",
    "print('MSE Modelo Lineal Simple (test) : %0.7g' % mseTestModelLR1)\n",
    "print('R^2 (train): {:.4f}'.format(lr.score(X1_train, y1_train)))\n",
    "print('R^2 (test): {:.4f}'.format(lr.score(X1_test, y1_test)))\n",
    "\n",
    "print('Coefficients:')\n",
    "w = lr.coef_\n",
    "for f, wi in zip(feature_names, w):\n",
    "    print(f, wi)\n",
    "print('Intercept:', lr.intercept_)"
   ]
  },
  {
   "cell_type": "markdown",
   "metadata": {},
   "source": [
    "**Save DATA**"
   ]
  },
  {
   "cell_type": "code",
   "execution_count": 9,
   "metadata": {},
   "outputs": [],
   "source": [
    "save = data[['YEAR', 'CODE', 'VQ_MARKET_CAP', 'IS_EPS_BASIC', 'IS__REVENUE', 'VR_PE_RATIO',\n",
    "             'VQ__PIOTROSKI_F_SCORE', 'PRICE_START', 'PRICE_END', 'RETURNS', 'RISK',\n",
    "             'CSR__ROC_JOEL_GREENBLATT', 'VR__EV_TO_EBIT']]\n",
    "save['CSR__ROC_JOEL_GREENBLATT_RANKING'] = save.groupby(by=['YEAR'])['CSR__ROC_JOEL_GREENBLATT'] \\\n",
    "        .transform(lambda x: x.rank(method='dense', ascending=False))\n",
    "save['VR__EV_TO_EBIT_RANKING'] = save.groupby(by=['YEAR'])['VR__EV_TO_EBIT'] \\\n",
    "        .transform(lambda x: x.rank(method='dense', ascending=False))"
   ]
  },
  {
   "cell_type": "code",
   "execution_count": 10,
   "metadata": {},
   "outputs": [],
   "source": [
    "result = save[['CSR__ROC_JOEL_GREENBLATT_RANKING', 'VR__EV_TO_EBIT_RANKING']]\n",
    "result.dropna(inplace=True)\n",
    "result['prediction'] = lr.predict(result)"
   ]
  },
  {
   "cell_type": "code",
   "execution_count": 11,
   "metadata": {},
   "outputs": [],
   "source": [
    "save = pd.concat([save, result['prediction']], axis=1, join='inner')\n",
    "save['prediction'] = save.groupby(by=['YEAR'])['prediction'] \\\n",
    "    .transform(lambda x: x.rank(method='dense', ascending=True))\n",
    "save.drop(['CSR__ROC_JOEL_GREENBLATT', 'VR__EV_TO_EBIT',\n",
    "           'CSR__ROC_JOEL_GREENBLATT_RANKING', 'VR__EV_TO_EBIT_RANKING'], axis=1, inplace=True)\n",
    "save.columns = ['YEAR', 'CODE', 'CAP', 'EPS', 'REVENUE', 'PER', 'PIOTROSKI',\n",
    "                'PRICE_START', 'PRICE_END', 'RETURNS', 'RISK', 'RANKING']\n",
    "save.sort_values(['YEAR', 'RANKING'], ascending=[True, True], inplace=True)\n",
    "save.to_csv('Results/metrics_LR_GB.csv', index=False)"
   ]
  },
  {
   "cell_type": "markdown",
   "metadata": {},
   "source": [
    "### Decision Tree"
   ]
  },
  {
   "cell_type": "code",
   "execution_count": 12,
   "metadata": {},
   "outputs": [
    {
     "name": "stdout",
     "output_type": "stream",
     "text": [
      "best mean cross-validation score: -950312.280\n",
      "best parameters: {'max_depth': 5}\n"
     ]
    },
    {
     "data": {
      "image/png": "[encoded data removed]",
      "text/plain": [
       "<Figure size 432x288 with 1 Axes>"
      ]
     },
     "metadata": {
      "needs_background": "light"
     },
     "output_type": "display_data"
    }
   ],
   "source": [
    "maxDepth = range(1, 10)\n",
    "param_grid = {'max_depth': maxDepth }\n",
    "\n",
    "grid = GridSearchCV(DecisionTreeRegressor(random_state = 0),\n",
    "                    scoring = 'neg_mean_squared_error',\n",
    "                    param_grid = param_grid,\n",
    "                    cv = 10)\n",
    "\n",
    "grid.fit(X1_train, y1_train)\n",
    "\n",
    "print(\"best mean cross-validation score: {:.3f}\".format(grid.best_score_))\n",
    "print(\"best parameters: {}\".format(grid.best_params_))\n",
    "\n",
    "scores = grid.cv_results_['mean_test_score']\n",
    "plt.plot(maxDepth, scores, '-o')\n",
    "plt.xlabel('max_depth', fontsize = 16)\n",
    "plt.ylabel('10-Fold FSC', fontsize = 16)\n",
    "plt.grid()\n",
    "plt.show()"
   ]
  },
  {
   "cell_type": "code",
   "execution_count": 13,
   "metadata": {},
   "outputs": [
    {
     "name": "stdout",
     "output_type": "stream",
     "text": [
      "MSE Modelo Decision Tree (train): 9.4e+05\n",
      "MSE Modelo Decision Tree (test) : 9.5e+05\n",
      "R^2 (train): 0.2746\n",
      "R^2 (test): 0.2725\n"
     ]
    }
   ],
   "source": [
    "depthOpt = grid.best_params_['max_depth']\n",
    "\n",
    "tree = DecisionTreeRegressor(random_state = 0,\n",
    "                             max_depth = depthOpt).fit(X1_train, y1_train)\n",
    "y1trainDecisionTree = tree.predict(X1_train)\n",
    "y1testDecisionTree  = tree.predict(X1_test)\n",
    "\n",
    "mseTrainModelDecisionTree1 = mean_squared_error(y1_train, y1trainDecisionTree)\n",
    "mseTestModelDecisionTree1 = mean_squared_error(y1_test, y1testDecisionTree)\n",
    "\n",
    "print('MSE Modelo Decision Tree (train): %0.3g' % mseTrainModelDecisionTree1)\n",
    "print('MSE Modelo Decision Tree (test) : %0.3g' % mseTestModelDecisionTree1)\n",
    "print(\"R^2 (train): {:.4f}\".format(tree.score(X1_train, y1_train)))\n",
    "print(\"R^2 (test): {:.4f}\".format(tree.score(X1_test, y1_test)))"
   ]
  },
  {
   "cell_type": "markdown",
   "metadata": {},
   "source": [
    "**Save DATA**"
   ]
  },
  {
   "cell_type": "code",
   "execution_count": 14,
   "metadata": {},
   "outputs": [],
   "source": [
    "save = data[['YEAR', 'CODE', 'VQ_MARKET_CAP', 'IS_EPS_BASIC', 'IS__REVENUE', 'VR_PE_RATIO',\n",
    "             'VQ__PIOTROSKI_F_SCORE', 'PRICE_START', 'PRICE_END', 'RETURNS', 'RISK',\n",
    "             'CSR__ROC_JOEL_GREENBLATT', 'VR__EV_TO_EBIT']]\n",
    "save['CSR__ROC_JOEL_GREENBLATT_RANKING'] = save.groupby(by=['YEAR'])['CSR__ROC_JOEL_GREENBLATT'] \\\n",
    "        .transform(lambda x: x.rank(method='dense', ascending=False))\n",
    "save['VR__EV_TO_EBIT_RANKING'] = save.groupby(by=['YEAR'])['VR__EV_TO_EBIT'] \\\n",
    "        .transform(lambda x: x.rank(method='dense', ascending=False))"
   ]
  },
  {
   "cell_type": "code",
   "execution_count": 15,
   "metadata": {},
   "outputs": [],
   "source": [
    "result = save[['CSR__ROC_JOEL_GREENBLATT_RANKING', 'VR__EV_TO_EBIT_RANKING']]\n",
    "result.dropna(inplace=True)\n",
    "result['prediction'] = tree.predict(result)"
   ]
  },
  {
   "cell_type": "code",
   "execution_count": 16,
   "metadata": {},
   "outputs": [],
   "source": [
    "save = pd.concat([save, result['prediction']], axis=1, join='inner')\n",
    "save['prediction'] = save.groupby(by=['YEAR'])['prediction'] \\\n",
    "    .transform(lambda x: x.rank(method='dense', ascending=True))\n",
    "save.drop(['CSR__ROC_JOEL_GREENBLATT', 'VR__EV_TO_EBIT',\n",
    "           'CSR__ROC_JOEL_GREENBLATT_RANKING', 'VR__EV_TO_EBIT_RANKING'], axis=1, inplace=True)\n",
    "save.columns = ['YEAR', 'CODE', 'CAP', 'EPS', 'REVENUE', 'PER', 'PIOTROSKI',\n",
    "                'PRICE_START', 'PRICE_END', 'RETURNS', 'RISK', 'RANKING']\n",
    "save.sort_values(['YEAR', 'RANKING'], ascending=[True, True], inplace=True)\n",
    "save.to_csv('Results/metrics_DT_GB.csv', index=False)"
   ]
  },
  {
   "cell_type": "markdown",
   "metadata": {},
   "source": [
    "### Random Forest"
   ]
  },
  {
   "cell_type": "code",
   "execution_count": 17,
   "metadata": {},
   "outputs": [
    {
     "name": "stdout",
     "output_type": "stream",
     "text": [
      "best mean cross-validation score: -940844.059\n",
      "best parameters: {'max_depth': 8}\n"
     ]
    },
    {
     "data": {
      "image/png": "[encoded data removed]",
      "text/plain": [
       "<Figure size 432x288 with 1 Axes>"
      ]
     },
     "metadata": {
      "needs_background": "light"
     },
     "output_type": "display_data"
    }
   ],
   "source": [
    "maxDepth   = range(2, 12)\n",
    "param_grid = {'max_depth': maxDepth}\n",
    "\n",
    "grid = GridSearchCV(RandomForestRegressor(random_state = 0, n_estimators = 200, max_features = 'sqrt'),\n",
    "                    scoring = 'neg_mean_squared_error', \n",
    "                    param_grid = param_grid, \n",
    "                    cv = 10,\n",
    "                    n_jobs = -1)\n",
    "\n",
    "grid.fit(X1_train, y1_train)\n",
    "\n",
    "print(\"best mean cross-validation score: {:.3f}\".format(grid.best_score_))\n",
    "print(\"best parameters: {}\".format(grid.best_params_))\n",
    "\n",
    "scores = grid.cv_results_['mean_test_score']\n",
    "plt.plot(maxDepth, scores, '-o')\n",
    "plt.xlabel('max_depth', fontsize = 16)\n",
    "plt.ylabel('10-Fold FSC', fontsize = 16)\n",
    "plt.grid()\n",
    "plt.show()"
   ]
  },
  {
   "cell_type": "code",
   "execution_count": 18,
   "metadata": {},
   "outputs": [
    {
     "name": "stdout",
     "output_type": "stream",
     "text": [
      "MSE Modelo Random Forest (train): 8.99e+05\n",
      "MSE Modelo Random Forest (test) : 9.36e+05\n",
      "R^2 (train): 0.3060\n",
      "R^2 (test): 0.2831\n"
     ]
    }
   ],
   "source": [
    "depthOpt = grid.best_params_['max_depth']\n",
    "\n",
    "rf = RandomForestRegressor(random_state = 0,\n",
    "                           max_depth = depthOpt,\n",
    "                           n_estimators = 200,\n",
    "                           max_features = 'sqrt').fit(X1_train, y1_train)\n",
    "y1trainRandomForest = rf.predict(X1_train)\n",
    "y1testRandomForest  = rf.predict(X1_test)\n",
    "\n",
    "mseTrainModelRandomForest1 = mean_squared_error(y1_train, y1trainRandomForest)\n",
    "mseTestModelRandomForest1 = mean_squared_error(y1_test, y1testRandomForest)\n",
    "\n",
    "print('MSE Modelo Random Forest (train): %0.3g' % mseTrainModelRandomForest1)\n",
    "print('MSE Modelo Random Forest (test) : %0.3g' % mseTestModelRandomForest1)\n",
    "print(\"R^2 (train): {:.4f}\".format(rf.score(X1_train, y1_train)))\n",
    "print(\"R^2 (test): {:.4f}\".format(rf.score(X1_test, y1_test)))"
   ]
  },
  {
   "cell_type": "markdown",
   "metadata": {},
   "source": [
    "**Save DATA**"
   ]
  },
  {
   "cell_type": "code",
   "execution_count": 19,
   "metadata": {},
   "outputs": [],
   "source": [
    "save = data[['YEAR', 'CODE', 'VQ_MARKET_CAP', 'IS_EPS_BASIC', 'IS__REVENUE', 'VR_PE_RATIO',\n",
    "             'VQ__PIOTROSKI_F_SCORE', 'PRICE_START', 'PRICE_END', 'RETURNS', 'RISK',\n",
    "             'CSR__ROC_JOEL_GREENBLATT', 'VR__EV_TO_EBIT']]\n",
    "save['CSR__ROC_JOEL_GREENBLATT_RANKING'] = save.groupby(by=['YEAR'])['CSR__ROC_JOEL_GREENBLATT'] \\\n",
    "        .transform(lambda x: x.rank(method='dense', ascending=False))\n",
    "save['VR__EV_TO_EBIT_RANKING'] = save.groupby(by=['YEAR'])['VR__EV_TO_EBIT'] \\\n",
    "        .transform(lambda x: x.rank(method='dense', ascending=False))"
   ]
  },
  {
   "cell_type": "code",
   "execution_count": 20,
   "metadata": {},
   "outputs": [],
   "source": [
    "result = save[['CSR__ROC_JOEL_GREENBLATT_RANKING', 'VR__EV_TO_EBIT_RANKING']]\n",
    "result.dropna(inplace=True)\n",
    "result['prediction'] = rf.predict(result)"
   ]
  },
  {
   "cell_type": "code",
   "execution_count": 21,
   "metadata": {},
   "outputs": [],
   "source": [
    "save = pd.concat([save, result['prediction']], axis=1, join='inner')\n",
    "save['prediction'] = save.groupby(by=['YEAR'])['prediction'] \\\n",
    "    .transform(lambda x: x.rank(method='dense', ascending=True))\n",
    "save.drop(['CSR__ROC_JOEL_GREENBLATT', 'VR__EV_TO_EBIT',\n",
    "           'CSR__ROC_JOEL_GREENBLATT_RANKING', 'VR__EV_TO_EBIT_RANKING'], axis=1, inplace=True)\n",
    "save.columns = ['YEAR', 'CODE', 'CAP', 'EPS', 'REVENUE', 'PER', 'PIOTROSKI',\n",
    "                'PRICE_START', 'PRICE_END', 'RETURNS', 'RISK', 'RANKING']\n",
    "save.sort_values(['YEAR', 'RANKING'], ascending=[True, True], inplace=True)\n",
    "save.to_csv('Results/metrics_RF_GB.csv', index=False)"
   ]
  },
  {
   "cell_type": "markdown",
   "metadata": {},
   "source": [
    "### XGBoost"
   ]
  },
  {
   "cell_type": "code",
   "execution_count": 22,
   "metadata": {},
   "outputs": [],
   "source": [
    "xg_reg = xgb.XGBRegressor(alpha=10, base_score=0.5, booster='gbtree', colsample_bylevel=1,\n",
    "                          colsample_bytree=0.3, gamma=0, learning_rate=0.15, max_delta_step=0,\n",
    "                          max_depth=5, min_child_weight=1, missing=None, n_estimators=50,\n",
    "                          n_jobs=1, nthread=None, objective='reg:linear', random_state=0,\n",
    "                          reg_alpha=0, reg_lambda=1, scale_pos_weight=1, seed=None,\n",
    "                          silent=True, subsample=1)"
   ]
  },
  {
   "cell_type": "code",
   "execution_count": 23,
   "metadata": {},
   "outputs": [
    {
     "data": {
      "text/plain": [
       "XGBRegressor(alpha=10, base_score=0.5, booster='gbtree', colsample_bylevel=1,\n",
       "       colsample_bytree=0.3, gamma=0, learning_rate=0.15, max_delta_step=0,\n",
       "       max_depth=5, min_child_weight=1, missing=None, n_estimators=50,\n",
       "       n_jobs=1, nthread=None, objective='reg:linear', random_state=0,\n",
       "       reg_alpha=0, reg_lambda=1, scale_pos_weight=1, seed=None,\n",
       "       silent=True, subsample=1)"
      ]
     },
     "execution_count": 23,
     "metadata": {},
     "output_type": "execute_result"
    }
   ],
   "source": [
    "xg_reg.fit(X1_train, y1_train)"
   ]
  },
  {
   "cell_type": "code",
   "execution_count": 24,
   "metadata": {},
   "outputs": [
    {
     "name": "stdout",
     "output_type": "stream",
     "text": [
      "MSE Modelo Lineal Simple (train): 965677.5\n",
      "MSE Modelo Lineal Simple (test) : 991632.4\n",
      "R^2 (train): 0.2544\n",
      "R^2 (test): 0.2407\n"
     ]
    }
   ],
   "source": [
    "y1_pred_train = xg_reg.predict(X1_train)\n",
    "y1_pred_test = xg_reg.predict(X1_test)\n",
    "\n",
    "mseTrainModelLR1 = mean_squared_error(y1_train, y1_pred_train)\n",
    "mseTestModelLR1 = mean_squared_error(y1_test, y1_pred_test)\n",
    "\n",
    "print('MSE Modelo Lineal Simple (train): %0.7g' % mseTrainModelLR1)\n",
    "print('MSE Modelo Lineal Simple (test) : %0.7g' % mseTestModelLR1)\n",
    "print('R^2 (train): {:.4f}'.format(xg_reg.score(X1_train, y1_train)))\n",
    "print('R^2 (test): {:.4f}'.format(xg_reg.score(X1_test, y1_test)))"
   ]
  },
  {
   "cell_type": "code",
   "execution_count": 25,
   "metadata": {},
   "outputs": [
    {
     "data": {
      "image/png": "[encoded data removed]",
      "text/plain": [
       "<Figure size 432x288 with 1 Axes>"
      ]
     },
     "metadata": {
      "needs_background": "light"
     },
     "output_type": "display_data"
    }
   ],
   "source": [
    "xgb.plot_importance(xg_reg)\n",
    "plt.rcParams['figure.figsize'] = [5, 5]\n",
    "plt.show()"
   ]
  },
  {
   "cell_type": "markdown",
   "metadata": {},
   "source": [
    "**Save DATA**"
   ]
  },
  {
   "cell_type": "code",
   "execution_count": 26,
   "metadata": {},
   "outputs": [],
   "source": [
    "save = data[['YEAR', 'CODE', 'VQ_MARKET_CAP', 'IS_EPS_BASIC', 'IS__REVENUE', 'VR_PE_RATIO',\n",
    "             'VQ__PIOTROSKI_F_SCORE', 'PRICE_START', 'PRICE_END', 'RETURNS', 'RISK',\n",
    "             'CSR__ROC_JOEL_GREENBLATT', 'VR__EV_TO_EBIT']]\n",
    "save['CSR__ROC_JOEL_GREENBLATT_RANKING'] = save.groupby(by=['YEAR'])['CSR__ROC_JOEL_GREENBLATT'] \\\n",
    "        .transform(lambda x: x.rank(method='dense', ascending=False))\n",
    "save['VR__EV_TO_EBIT_RANKING'] = save.groupby(by=['YEAR'])['VR__EV_TO_EBIT'] \\\n",
    "        .transform(lambda x: x.rank(method='dense', ascending=False))"
   ]
  },
  {
   "cell_type": "code",
   "execution_count": 27,
   "metadata": {},
   "outputs": [],
   "source": [
    "result = save[['CSR__ROC_JOEL_GREENBLATT_RANKING', 'VR__EV_TO_EBIT_RANKING']]\n",
    "result.dropna(inplace=True)\n",
    "result['prediction'] = xg_reg.predict(result)"
   ]
  },
  {
   "cell_type": "code",
   "execution_count": 28,
   "metadata": {},
   "outputs": [],
   "source": [
    "save = pd.concat([save, result['prediction']], axis=1, join='inner')\n",
    "save['prediction'] = save.groupby(by=['YEAR'])['prediction'] \\\n",
    "    .transform(lambda x: x.rank(method='dense', ascending=True))\n",
    "save.drop(['CSR__ROC_JOEL_GREENBLATT', 'VR__EV_TO_EBIT',\n",
    "           'CSR__ROC_JOEL_GREENBLATT_RANKING', 'VR__EV_TO_EBIT_RANKING'], axis=1, inplace=True)\n",
    "save.columns = ['YEAR', 'CODE', 'CAP', 'EPS', 'REVENUE', 'PER', 'PIOTROSKI',\n",
    "                'PRICE_START', 'PRICE_END', 'RETURNS', 'RISK', 'RANKING']\n",
    "save.sort_values(['YEAR', 'RANKING'], ascending=[True, True], inplace=True)\n",
    "save.to_csv('Results/metrics_XGB_GB.csv', index=False)"
   ]
  },
  {
   "cell_type": "markdown",
   "metadata": {},
   "source": [
    "### XGBoost k-fold"
   ]
  },
  {
   "cell_type": "code",
   "execution_count": 29,
   "metadata": {
    "scrolled": true
   },
   "outputs": [
    {
     "name": "stdout",
     "output_type": "stream",
     "text": [
      "[0]\ttrain-rmse:1676.49+4.21978\ttest-rmse:1676.9+10.2835\n",
      "[1]\ttrain-rmse:1521.13+3.28586\ttest-rmse:1521.94+10.596\n",
      "[2]\ttrain-rmse:1397.91+2.52777\ttest-rmse:1399.34+10.7313\n",
      "[3]\ttrain-rmse:1301.55+1.98452\ttest-rmse:1303.49+10.6133\n",
      "[4]\ttrain-rmse:1225.26+3.19132\ttest-rmse:1227.66+8.7058\n",
      "[5]\ttrain-rmse:1167.01+4.20183\ttest-rmse:1169.87+7.1376\n",
      "[6]\ttrain-rmse:1121.27+2.91049\ttest-rmse:1124.79+6.65732\n",
      "[7]\ttrain-rmse:1087.87+3.40817\ttest-rmse:1092.04+5.67788\n",
      "[8]\ttrain-rmse:1063.04+3.83824\ttest-rmse:1067.78+4.91769\n",
      "[9]\ttrain-rmse:1044.48+4.10202\ttest-rmse:1049.84+4.71432\n",
      "[10]\ttrain-rmse:1030.66+4.48085\ttest-rmse:1036.57+4.58912\n",
      "[11]\ttrain-rmse:1019.25+3.0958\ttest-rmse:1025.76+4.24278\n",
      "[12]\ttrain-rmse:1011.75+3.29058\ttest-rmse:1018.73+4.23627\n",
      "[13]\ttrain-rmse:1006.19+3.38626\ttest-rmse:1013.71+4.36762\n",
      "[14]\ttrain-rmse:1001.18+2.28814\ttest-rmse:1009.24+3.9975\n",
      "[15]\ttrain-rmse:998.023+2.36984\ttest-rmse:1006.37+4.31068\n",
      "[16]\ttrain-rmse:995.611+2.54544\ttest-rmse:1004.51+4.44802\n",
      "[17]\ttrain-rmse:993.661+2.82531\ttest-rmse:1002.92+4.64029\n",
      "[18]\ttrain-rmse:992.276+2.84674\ttest-rmse:1001.8+4.85998\n",
      "[19]\ttrain-rmse:990.489+2.0661\ttest-rmse:1000.65+4.49585\n",
      "[20]\ttrain-rmse:989.089+1.49874\ttest-rmse:999.788+4.38346\n",
      "[21]\ttrain-rmse:988.05+1.13479\ttest-rmse:999.223+4.30349\n",
      "[22]\ttrain-rmse:987.279+1.39355\ttest-rmse:998.824+4.27081\n",
      "[23]\ttrain-rmse:986.446+1.29499\ttest-rmse:998.482+4.17268\n",
      "[24]\ttrain-rmse:985.982+1.17681\ttest-rmse:998.327+4.18871\n",
      "[25]\ttrain-rmse:985.242+1.0516\ttest-rmse:998.097+4.22922\n",
      "[26]\ttrain-rmse:984.767+1.1417\ttest-rmse:997.952+4.23381\n",
      "[27]\ttrain-rmse:984.212+1.19302\ttest-rmse:997.861+4.29114\n",
      "[28]\ttrain-rmse:983.756+1.19251\ttest-rmse:997.777+4.21074\n",
      "[29]\ttrain-rmse:983.385+1.23874\ttest-rmse:997.767+4.23754\n",
      "[30]\ttrain-rmse:983.053+1.20158\ttest-rmse:997.708+4.27075\n",
      "[31]\ttrain-rmse:982.736+1.19062\ttest-rmse:997.688+4.21612\n",
      "[32]\ttrain-rmse:982.385+1.20354\ttest-rmse:997.733+4.30977\n",
      "[33]\ttrain-rmse:982.101+1.21699\ttest-rmse:997.706+4.33127\n",
      "[34]\ttrain-rmse:981.753+1.25478\ttest-rmse:997.688+4.30853\n",
      "[35]\ttrain-rmse:981.499+1.17154\ttest-rmse:997.662+4.29787\n",
      "[36]\ttrain-rmse:981.127+1.158\ttest-rmse:997.626+4.27189\n",
      "[37]\ttrain-rmse:980.782+1.22896\ttest-rmse:997.609+4.24317\n",
      "[38]\ttrain-rmse:980.448+1.25113\ttest-rmse:997.611+4.26098\n",
      "[39]\ttrain-rmse:980.223+1.27704\ttest-rmse:997.651+4.25121\n",
      "[40]\ttrain-rmse:979.881+1.26096\ttest-rmse:997.693+4.24622\n",
      "[41]\ttrain-rmse:979.567+1.24628\ttest-rmse:997.733+4.25401\n",
      "[42]\ttrain-rmse:979.318+1.20727\ttest-rmse:997.763+4.22162\n",
      "[43]\ttrain-rmse:979.145+1.2519\ttest-rmse:997.722+4.18899\n",
      "[44]\ttrain-rmse:978.744+1.32093\ttest-rmse:997.709+4.20077\n",
      "[45]\ttrain-rmse:978.357+1.32461\ttest-rmse:997.767+4.14965\n",
      "[46]\ttrain-rmse:978.005+1.25321\ttest-rmse:997.828+4.16414\n"
     ]
    }
   ],
   "source": [
    "param_dist = {'objective': 'reg:linear',\n",
    "              'max_depth': 5,\n",
    "              'colsample_bytree': 0.7,\n",
    "              'alpha': 10,\n",
    "              'learning_rate': 0.15,\n",
    "              'silent': 1}\n",
    "\n",
    "n_folds = 3\n",
    "early_stopping = 10\n",
    "\n",
    "xg_train = xgb.DMatrix(X1_train, label=y1_train)\n",
    "\n",
    "cv = xgb.cv(param_dist, xg_train, 500, nfold=n_folds, early_stopping_rounds=early_stopping, verbose_eval=1)"
   ]
  },
  {
   "cell_type": "code",
   "execution_count": 30,
   "metadata": {
    "scrolled": true
   },
   "outputs": [],
   "source": [
    "xg_reg_fold = xgb.train(params=param_dist, dtrain=xg_train, num_boost_round=cv.shape[0])"
   ]
  },
  {
   "cell_type": "code",
   "execution_count": 31,
   "metadata": {},
   "outputs": [
    {
     "data": {
      "image/png": "[encoded data removed]",
      "text/plain": [
       "<Figure size 360x360 with 1 Axes>"
      ]
     },
     "metadata": {
      "needs_background": "light"
     },
     "output_type": "display_data"
    }
   ],
   "source": [
    "xgb.plot_importance(xg_reg_fold)\n",
    "plt.rcParams['figure.figsize'] = [5, 5]\n",
    "plt.show()"
   ]
  },
  {
   "cell_type": "markdown",
   "metadata": {},
   "source": [
    "**Save DATA**"
   ]
  },
  {
   "cell_type": "code",
   "execution_count": 32,
   "metadata": {},
   "outputs": [],
   "source": [
    "save = data[['YEAR', 'CODE', 'VQ_MARKET_CAP', 'IS_EPS_BASIC', 'IS__REVENUE', 'VR_PE_RATIO',\n",
    "             'VQ__PIOTROSKI_F_SCORE', 'PRICE_START', 'PRICE_END', 'RETURNS', 'RISK',\n",
    "             'CSR__ROC_JOEL_GREENBLATT', 'VR__EV_TO_EBIT']]\n",
    "save['CSR__ROC_JOEL_GREENBLATT_RANKING'] = save.groupby(by=['YEAR'])['CSR__ROC_JOEL_GREENBLATT'] \\\n",
    "        .transform(lambda x: x.rank(method='dense', ascending=False))\n",
    "save['VR__EV_TO_EBIT_RANKING'] = save.groupby(by=['YEAR'])['VR__EV_TO_EBIT'] \\\n",
    "        .transform(lambda x: x.rank(method='dense', ascending=False))"
   ]
  },
  {
   "cell_type": "code",
   "execution_count": 33,
   "metadata": {},
   "outputs": [],
   "source": [
    "result = save[['CSR__ROC_JOEL_GREENBLATT_RANKING', 'VR__EV_TO_EBIT_RANKING']]\n",
    "result.dropna(inplace=True)\n",
    "result_xg = xgb.DMatrix(result)\n",
    "result['prediction'] = xg_reg_fold.predict(result_xg)"
   ]
  },
  {
   "cell_type": "code",
   "execution_count": 34,
   "metadata": {},
   "outputs": [],
   "source": [
    "save = pd.concat([save, result['prediction']], axis=1, join='inner')\n",
    "save['prediction'] = save.groupby(by=['YEAR'])['prediction'] \\\n",
    "    .transform(lambda x: x.rank(method='dense', ascending=True))\n",
    "save.drop(['CSR__ROC_JOEL_GREENBLATT', 'VR__EV_TO_EBIT',\n",
    "           'CSR__ROC_JOEL_GREENBLATT_RANKING', 'VR__EV_TO_EBIT_RANKING'], axis=1, inplace=True)\n",
    "save.columns = ['YEAR', 'CODE', 'CAP', 'EPS', 'REVENUE', 'PER', 'PIOTROSKI',\n",
    "                'PRICE_START', 'PRICE_END', 'RETURNS', 'RISK', 'RANKING']\n",
    "save.sort_values(['YEAR', 'RANKING'], ascending=[True, True], inplace=True)\n",
    "save.to_csv('Results/metrics_XGB_KF_GB.csv', index=False)"
   ]
  },
  {
   "cell_type": "markdown",
   "metadata": {},
   "source": [
    "# Aproximación 2"
   ]
  },
  {
   "cell_type": "markdown",
   "metadata": {},
   "source": [
    "## Linear Regression"
   ]
  },
  {
   "cell_type": "code",
   "execution_count": 35,
   "metadata": {
    "scrolled": false
   },
   "outputs": [],
   "source": [
    "final = pd.DataFrame()\n",
    "for x in range(2000, 2018):\n",
    "    gb2 = gb.query('YEAR >= @x-10 & YEAR <= @x-1')[['CSR__ROC_JOEL_GREENBLATT_RANKING',\n",
    "                                                    'VR__EV_TO_EBIT_RANKING',\n",
    "                                                    'RETURNS_NEXT_RANKING']]\n",
    "    X2 = gb2.drop(['RETURNS_NEXT_RANKING'], axis=1)\n",
    "    y2 = gb2['RETURNS_NEXT_RANKING']\n",
    "\n",
    "    feature_names = X2.columns\n",
    "\n",
    "    X2_train, X2_test, y2_train, y2_test = train_test_split(X2, y2, shuffle= True, random_state=10, test_size=0.25)\n",
    "    \n",
    "    lr = LinearRegression()\n",
    "    lr.fit(X2_train, y2_train)\n",
    "\n",
    "    save = data[['YEAR', 'CODE', 'VQ_MARKET_CAP', 'IS_EPS_BASIC', 'IS__REVENUE', 'VR_PE_RATIO',\n",
    "                 'VQ__PIOTROSKI_F_SCORE', 'PRICE_START', 'PRICE_END', 'RETURNS', 'RISK',\n",
    "                 'CSR__ROC_JOEL_GREENBLATT', 'VR__EV_TO_EBIT']]\n",
    "    save['CSR__ROC_JOEL_GREENBLATT_RANKING'] = save.groupby(by=['YEAR'])['CSR__ROC_JOEL_GREENBLATT'] \\\n",
    "            .transform(lambda x: x.rank(method='dense', ascending=False))\n",
    "    save['VR__EV_TO_EBIT_RANKING'] = save.groupby(by=['YEAR'])['VR__EV_TO_EBIT'] \\\n",
    "            .transform(lambda x: x.rank(method='dense', ascending=False))\n",
    "    \n",
    "    result = save.query('YEAR == @x')[['CSR__ROC_JOEL_GREENBLATT_RANKING', 'VR__EV_TO_EBIT_RANKING']]\n",
    "    result.dropna(inplace=True)\n",
    "    result['prediction'] = lr.predict(result)\n",
    "    \n",
    "    save = pd.concat([save, result['prediction']], axis=1, join='inner')\n",
    "    save['prediction'] = save.groupby(by=['YEAR'])['prediction'] \\\n",
    "        .transform(lambda x: x.rank(method='dense', ascending=True))\n",
    "    save.drop(['CSR__ROC_JOEL_GREENBLATT', 'VR__EV_TO_EBIT',\n",
    "               'CSR__ROC_JOEL_GREENBLATT_RANKING', 'VR__EV_TO_EBIT_RANKING'], axis=1, inplace=True)\n",
    "    save.columns = ['YEAR', 'CODE', 'CAP', 'EPS', 'REVENUE', 'PER', 'PIOTROSKI',\n",
    "                    'PRICE_START', 'PRICE_END', 'RETURNS', 'RISK', 'RANKING']\n",
    "    save.sort_values(['YEAR', 'RANKING'], ascending=[True, True], inplace=True)\n",
    "    \n",
    "    final = final.append(save)\n",
    "\n",
    "final.to_csv('Results/metrics_LR_W10_GB.csv', index=False)"
   ]
  },
  {
   "cell_type": "markdown",
   "metadata": {},
   "source": [
    "## Random Forest"
   ]
  },
  {
   "cell_type": "code",
   "execution_count": 36,
   "metadata": {
    "scrolled": true
   },
   "outputs": [],
   "source": [
    "final = pd.DataFrame()\n",
    "for x in range(2000, 2018):\n",
    "    gb2 = gb.query('YEAR >= @x-10 & YEAR <= @x-1')[['CSR__ROC_JOEL_GREENBLATT_RANKING',\n",
    "                                                    'VR__EV_TO_EBIT_RANKING',\n",
    "                                                    'RETURNS_NEXT_RANKING']]\n",
    "    X2 = gb2.drop(['RETURNS_NEXT_RANKING'], axis=1)\n",
    "    y2 = gb2['RETURNS_NEXT_RANKING']\n",
    "\n",
    "    feature_names = X2.columns\n",
    "\n",
    "    X2_train, X2_test, y2_train, y2_test = train_test_split(X2, y2, shuffle= True, random_state=10, test_size=0.25)\n",
    "    \n",
    "    maxDepth   = range(2, 12)\n",
    "    param_grid = {'max_depth': maxDepth}\n",
    "\n",
    "    grid = GridSearchCV(RandomForestRegressor(random_state = 0, n_estimators = 200, max_features = 'sqrt'),\n",
    "                        scoring = 'neg_mean_squared_error', \n",
    "                        param_grid = param_grid, \n",
    "                        cv = 10,\n",
    "                        n_jobs = -1)\n",
    "\n",
    "    grid.fit(X2_train, y2_train)\n",
    "    \n",
    "    depthOpt = grid.best_params_['max_depth']\n",
    "\n",
    "    rf = RandomForestRegressor(random_state = 0,\n",
    "                               max_depth = depthOpt,\n",
    "                               n_estimators = 200,\n",
    "                               max_features = 'sqrt').fit(X2_train, y2_train)\n",
    "    \n",
    "    save = data[['YEAR', 'CODE', 'VQ_MARKET_CAP', 'IS_EPS_BASIC', 'IS__REVENUE', 'VR_PE_RATIO',\n",
    "                 'VQ__PIOTROSKI_F_SCORE', 'PRICE_START', 'PRICE_END', 'RETURNS', 'RISK',\n",
    "                 'CSR__ROC_JOEL_GREENBLATT', 'VR__EV_TO_EBIT']]\n",
    "    save['CSR__ROC_JOEL_GREENBLATT_RANKING'] = save.groupby(by=['YEAR'])['CSR__ROC_JOEL_GREENBLATT'] \\\n",
    "            .transform(lambda x: x.rank(method='dense', ascending=False))\n",
    "    save['VR__EV_TO_EBIT_RANKING'] = save.groupby(by=['YEAR'])['VR__EV_TO_EBIT'] \\\n",
    "            .transform(lambda x: x.rank(method='dense', ascending=False))\n",
    "    \n",
    "    result = save.query('YEAR == @x')[['CSR__ROC_JOEL_GREENBLATT_RANKING', 'VR__EV_TO_EBIT_RANKING']]\n",
    "    result.dropna(inplace=True)\n",
    "    result['prediction'] = rf.predict(result)\n",
    "    \n",
    "    save = pd.concat([save, result['prediction']], axis=1, join='inner')\n",
    "    save['prediction'] = save.groupby(by=['YEAR'])['prediction'] \\\n",
    "        .transform(lambda x: x.rank(method='dense', ascending=True))\n",
    "    save.drop(['CSR__ROC_JOEL_GREENBLATT', 'VR__EV_TO_EBIT',\n",
    "               'CSR__ROC_JOEL_GREENBLATT_RANKING', 'VR__EV_TO_EBIT_RANKING'], axis=1, inplace=True)\n",
    "    save.columns = ['YEAR', 'CODE', 'CAP', 'EPS', 'REVENUE', 'PER', 'PIOTROSKI',\n",
    "                    'PRICE_START', 'PRICE_END', 'RETURNS', 'RISK', 'RANKING']\n",
    "    save.sort_values(['YEAR', 'RANKING'], ascending=[True, True], inplace=True)\n",
    "    \n",
    "    final = final.append(save)\n",
    "final.to_csv('Results/metrics_RF_W10_GB.csv', index=False)"
   ]
  },
  {
   "cell_type": "markdown",
   "metadata": {},
   "source": [
    "# Aproximación 3"
   ]
  },
  {
   "cell_type": "code",
   "execution_count": 37,
   "metadata": {},
   "outputs": [],
   "source": [
    "final = pd.DataFrame()\n",
    "for x in range(2000, 2018):\n",
    "    gb3 = gb.query('YEAR >= @x-5 & YEAR <= @x-1')[['CSR__ROC_JOEL_GREENBLATT_RANKING',\n",
    "                                                   'VR__EV_TO_EBIT_RANKING',\n",
    "                                                   'RETURNS_NEXT_RANKING']]\n",
    "    X2 = gb3.drop(['RETURNS_NEXT_RANKING'], axis=1)\n",
    "    y2 = gb3['RETURNS_NEXT_RANKING']\n",
    "\n",
    "    feature_names = X2.columns\n",
    "\n",
    "    X2_train, X2_test, y2_train, y2_test = train_test_split(X2, y2, shuffle= True, random_state=10, test_size=0.25)\n",
    "    \n",
    "    lr = LinearRegression()\n",
    "    lr.fit(X2_train, y2_train)\n",
    "\n",
    "    save = data[['YEAR', 'CODE', 'VQ_MARKET_CAP', 'IS_EPS_BASIC', 'IS__REVENUE', 'VR_PE_RATIO',\n",
    "                 'VQ__PIOTROSKI_F_SCORE', 'PRICE_START', 'PRICE_END', 'RETURNS', 'RISK',\n",
    "                 'CSR__ROC_JOEL_GREENBLATT', 'VR__EV_TO_EBIT']]\n",
    "    save['CSR__ROC_JOEL_GREENBLATT_RANKING'] = save.groupby(by=['YEAR'])['CSR__ROC_JOEL_GREENBLATT'] \\\n",
    "            .transform(lambda x: x.rank(method='dense', ascending=False))\n",
    "    save['VR__EV_TO_EBIT_RANKING'] = save.groupby(by=['YEAR'])['VR__EV_TO_EBIT'] \\\n",
    "            .transform(lambda x: x.rank(method='dense', ascending=False))\n",
    "    \n",
    "    result = save.query('YEAR == @x')[['CSR__ROC_JOEL_GREENBLATT_RANKING', 'VR__EV_TO_EBIT_RANKING']]\n",
    "    result.dropna(inplace=True)\n",
    "    result['prediction'] = lr.predict(result)\n",
    "    \n",
    "    save = pd.concat([save, result['prediction']], axis=1, join='inner')\n",
    "    save['prediction'] = save.groupby(by=['YEAR'])['prediction'] \\\n",
    "        .transform(lambda x: x.rank(method='dense', ascending=True))\n",
    "    save.drop(['CSR__ROC_JOEL_GREENBLATT', 'VR__EV_TO_EBIT',\n",
    "               'CSR__ROC_JOEL_GREENBLATT_RANKING', 'VR__EV_TO_EBIT_RANKING'], axis=1, inplace=True)\n",
    "    save.columns = ['YEAR', 'CODE', 'CAP', 'EPS', 'REVENUE', 'PER', 'PIOTROSKI',\n",
    "                    'PRICE_START', 'PRICE_END', 'RETURNS', 'RISK', 'RANKING']\n",
    "    save.sort_values(['YEAR', 'RANKING'], ascending=[True, True], inplace=True)\n",
    "    \n",
    "    final = final.append(save)\n",
    "\n",
    "final.to_csv('Results/metrics_LR_W5_GB.csv', index=False)"
   ]
  },
  {
   "cell_type": "code",
   "execution_count": null,
   "metadata": {},
   "outputs": [],
   "source": []
  }
 ],
 "metadata": {
  "kernelspec": {
   "display_name": "Python 3",
   "language": "python",
   "name": "python3"
  },
  "language_info": {
   "codemirror_mode": {
    "name": "ipython",
    "version": 3
   },
   "file_extension": ".py",
   "mimetype": "text/x-python",
   "name": "python",
   "nbconvert_exporter": "python",
   "pygments_lexer": "ipython3",
   "version": "3.6.6"
  },
  "toc": {
   "base_numbering": 1,
   "nav_menu": {},
   "number_sections": true,
   "sideBar": false,
   "skip_h1_title": false,
   "title_cell": "Table of Contents",
   "title_sidebar": "Contents",
   "toc_cell": false,
   "toc_position": {
    "height": "398px",
    "left": "1024px",
    "top": "110px",
    "width": "256px"
   },
   "toc_section_display": true,
   "toc_window_display": true
  }
 },
 "nbformat": 4,
 "nbformat_minor": 2
}
